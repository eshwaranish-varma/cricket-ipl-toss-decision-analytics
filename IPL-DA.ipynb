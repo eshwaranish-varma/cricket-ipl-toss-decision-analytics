{
 "cells": [
  {
   "cell_type": "code",
   "execution_count": 0,
   "metadata": {
    "application/vnd.databricks.v1+cell": {
     "cellMetadata": {
      "byteLimit": 2048000,
      "rowLimit": 10000
     },
     "inputWidgets": {},
     "nuid": "ad4c3088-8c30-43e1-ae1d-23e17f116164",
     "showTitle": false,
     "tableResultSettingsMap": {},
     "title": ""
    }
   },
   "outputs": [
    {
     "output_type": "display_data",
     "data": {
      "application/vnd.databricks.v1+bamboolib_hint": "{\"pd.DataFrames\": [], \"version\": \"0.0.1\"}",
      "text/plain": []
     },
     "metadata": {},
     "output_type": "display_data"
    }
   ],
   "source": [
    "# Core PySpark\n",
    "from pyspark.sql import SparkSession\n",
    "from pyspark.sql.functions import col, when, sum, avg, count, udf, split, floor\n",
    "from pyspark.sql.types import StringType\n",
    "\n",
    "# MLlib\n",
    "from pyspark.ml.feature import StringIndexer, VectorAssembler\n",
    "from pyspark.ml.classification import DecisionTreeClassifier\n",
    "from pyspark.ml import Pipeline\n",
    "from pyspark.ml.evaluation import BinaryClassificationEvaluator\n",
    "\n",
    "# Data Visualization\n",
    "import matplotlib.pyplot as plt\n",
    "import seaborn as sns\n",
    "\n",
    "# Data Handling\n",
    "import pandas as pd\n",
    "import numpy as np\n",
    "\n",
    "# Start Spark session\n",
    "spark = SparkSession.builder.appName(\"IPL_Project_Restart\").getOrCreate()\n"
   ]
  },
  {
   "cell_type": "code",
   "execution_count": 0,
   "metadata": {
    "application/vnd.databricks.v1+cell": {
     "cellMetadata": {
      "byteLimit": 2048000,
      "rowLimit": 10000
     },
     "inputWidgets": {},
     "nuid": "c7b1ed3e-f166-4334-9628-fc9eb69950b4",
     "showTitle": false,
     "tableResultSettingsMap": {},
     "title": ""
    }
   },
   "outputs": [],
   "source": [
    "deliveries_df = spark.read.format(\"csv\").option(\"header\", \"true\").load(\"dbfs:/FileStore/shared_uploads/nlsn@gmu.edu/deliveries-3.csv\")\n",
    "ball_by_ball_df = spark.read.format(\"csv\").option(\"header\", \"true\").load(\"dbfs:/FileStore/shared_uploads/nlsn@gmu.edu/IPL_BallByBall2008_2024_Updated_-3.csv\")\n",
    "team_info_df = spark.read.format(\"csv\").option(\"header\", \"true\").load(\"dbfs:/FileStore/shared_uploads/nlsn@gmu.edu/ipl_teams_2024_info-3.csv\")\n",
    "matches_df = spark.read.format(\"csv\").option(\"header\", \"true\").load(\"dbfs:/FileStore/shared_uploads/nlsn@gmu.edu/matches-3.csv\")\n",
    "players_info_df = spark.read.format(\"csv\").option(\"header\", \"true\").load(\"dbfs:/FileStore/shared_uploads/nlsn@gmu.edu/Players_Info_2024-3.csv\")\n",
    "team_perf_df = spark.read.format(\"csv\").option(\"header\", \"true\").load(\"dbfs:/FileStore/shared_uploads/nlsn@gmu.edu/team_performance_dataset_2008to2024-3.csv\")"
   ]
  },
  {
   "cell_type": "code",
   "execution_count": 0,
   "metadata": {
    "application/vnd.databricks.v1+cell": {
     "cellMetadata": {
      "byteLimit": 2048000,
      "rowLimit": 10000
     },
     "inputWidgets": {},
     "nuid": "6651c6f4-428b-4c6b-baf8-84ddedafc285",
     "showTitle": false,
     "tableResultSettingsMap": {},
     "title": ""
    }
   },
   "outputs": [],
   "source": [
    "# Team name mapping for consistency across seasons\n",
    "team_name_map = {\n",
    "    \"Delhi Daredevils\": \"Delhi Capitals\",\n",
    "    \"Deccan Chargers\": \"Sunrisers Hyderabad\",\n",
    "    \"Kings XI Punjab\": \"Punjab Kings\",\n",
    "    \"Rising Pune Supergiant\": \"Rising Pune Supergiants\",\n",
    "    \"Pune Warriors\": \"Rising Pune Supergiants\",\n",
    "    \"Gujarat Lions\": \"Gujarat Titans\"\n",
    "}\n",
    "\n",
    "# UDF to apply mapping\n",
    "def normalize_team_name(name):\n",
    "    return team_name_map.get(name, name)\n",
    "\n",
    "normalize_team_udf = udf(normalize_team_name, StringType())\n",
    "\n",
    "# Apply normalization to matches_df\n",
    "for col_name in [\"team1\", \"team2\", \"toss_winner\", \"winner\"]:\n",
    "    matches_df = matches_df.withColumn(col_name, normalize_team_udf(col(col_name)))\n",
    "\n",
    "# Apply normalization to deliveries_df\n",
    "for col_name in [\"batting_team\", \"bowling_team\"]:\n",
    "    deliveries_df = deliveries_df.withColumn(col_name, normalize_team_udf(col(col_name)))\n",
    "\n",
    "# Clean column names in ball_by_ball_df\n",
    "ball_by_ball_df = ball_by_ball_df.toDF(*[c.strip().lower().replace(\" \", \"_\") for c in ball_by_ball_df.columns])\n",
    "\n",
    "# Normalize team names in ball_by_ball_df\n",
    "for col_name in [\"batting_team\", \"bowling_team\"]:\n",
    "    ball_by_ball_df = ball_by_ball_df.withColumn(col_name, normalize_team_udf(col(col_name)))\n",
    "\n",
    "# Normalize and rename column in team_perf_df if needed\n",
    "if \"Teams\" in team_perf_df.columns:\n",
    "    team_perf_df = team_perf_df.withColumn(\"Teams\", normalize_team_udf(col(\"Teams\")))\n",
    "    team_perf_df = team_perf_df.withColumnRenamed(\"Teams\", \"Team\")\n",
    "\n"
   ]
  },
  {
   "cell_type": "markdown",
   "metadata": {
    "application/vnd.databricks.v1+cell": {
     "cellMetadata": {
      "byteLimit": 2048000,
      "rowLimit": 10000
     },
     "inputWidgets": {},
     "nuid": "cf03978f-1f92-4a51-adf4-bb8b71197362",
     "showTitle": false,
     "tableResultSettingsMap": {},
     "title": ""
    }
   },
   "source": [
    "#EDA"
   ]
  },
  {
   "cell_type": "markdown",
   "metadata": {
    "application/vnd.databricks.v1+cell": {
     "cellMetadata": {
      "byteLimit": 2048000,
      "rowLimit": 10000
     },
     "inputWidgets": {},
     "nuid": "527ec83e-a474-4033-99fc-b085b47fc1dd",
     "showTitle": false,
     "tableResultSettingsMap": {},
     "title": ""
    }
   },
   "source": [
    "## Toss Winner vs Match Winner"
   ]
  },
  {
   "cell_type": "code",
   "execution_count": 0,
   "metadata": {
    "application/vnd.databricks.v1+cell": {
     "cellMetadata": {
      "byteLimit": 2048000,
      "rowLimit": 10000
     },
     "inputWidgets": {},
     "nuid": "4770ac1e-fae9-47f5-9607-fecc0749c95a",
     "showTitle": false,
     "tableResultSettingsMap": {},
     "title": ""
    }
   },
   "outputs": [
    {
     "output_type": "display_data",
     "data": {
      "image/png": "[encoded data removed]"
     },
     "metadata": {
      "application/vnd.databricks.v1+output": {
       "addedWidgets": {},
       "arguments": {},
       "data": "data:image/png;base64,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\n",
       "datasetInfos": [],
       "metadata": {},
       "removedWidgets": [],
       "type": "image"
      }
     },
     "output_type": "display_data"
    }
   ],
   "source": [
    "# Add a flag column indicating if toss winner also won the match\n",
    "matches_df = matches_df.withColumn(\"toss_match_win\", (col(\"toss_winner\") == col(\"winner\")))\n",
    "\n",
    "# Group by this new flag\n",
    "toss_win_stats = matches_df.groupBy(\"toss_match_win\").count().toPandas()\n",
    "\n",
    "# Plot\n",
    "plt.figure(figsize=(6, 4))\n",
    "sns.barplot(data=toss_win_stats, x=\"toss_match_win\", y=\"count\", palette=\"Set2\")\n",
    "plt.title(\"Did Toss Winner Also Win the Match?\")\n",
    "plt.xticks([0, 1], [\"No\", \"Yes\"])\n",
    "plt.xlabel(\"Toss Winner = Match Winner\")\n",
    "plt.ylabel(\"Number of Matches\")\n",
    "plt.tight_layout()\n",
    "plt.show()\n"
   ]
  },
  {
   "cell_type": "markdown",
   "metadata": {
    "application/vnd.databricks.v1+cell": {
     "cellMetadata": {
      "byteLimit": 2048000,
      "rowLimit": 10000
     },
     "inputWidgets": {},
     "nuid": "cde85a29-4b8c-4e40-a19a-e9b2d96ce59b",
     "showTitle": false,
     "tableResultSettingsMap": {},
     "title": ""
    }
   },
   "source": [
    "## Toss Decision vs Match Outcome"
   ]
  },
  {
   "cell_type": "code",
   "execution_count": 0,
   "metadata": {
    "application/vnd.databricks.v1+cell": {
     "cellMetadata": {
      "byteLimit": 2048000,
      "rowLimit": 10000
     },
     "inputWidgets": {},
     "nuid": "e72460a1-f551-4a0b-8f02-a15f448ad3f0",
     "showTitle": false,
     "tableResultSettingsMap": {},
     "title": ""
    }
   },
   "outputs": [
    {
     "output_type": "display_data",
     "data": {
      "image/png": "[encoded data removed]"
     },
     "metadata": {
      "application/vnd.databricks.v1+output": {
       "addedWidgets": {},
       "arguments": {},
       "data": "data:image/png;base64,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\n",
       "datasetInfos": [],
       "metadata": {},
       "removedWidgets": [],
       "type": "image"
      }
     },
     "output_type": "display_data"
    }
   ],
   "source": [
    "toss_outcome_df = matches_df.groupBy(\"toss_decision\", \"toss_match_win\").count().toPandas()\n",
    "\n",
    "# Plot\n",
    "plt.figure(figsize=(6, 4))\n",
    "sns.barplot(data=toss_outcome_df, x=\"toss_decision\", y=\"count\", hue=\"toss_match_win\", palette=\"pastel\")\n",
    "plt.title(\"Toss Decision vs Match Outcome\")\n",
    "plt.xlabel(\"Toss Decision\")\n",
    "plt.ylabel(\"Match Count\")\n",
    "plt.legend(title=\"Toss = Match Win\", labels=[\"No\", \"Yes\"])\n",
    "plt.tight_layout()\n",
    "plt.show()\n"
   ]
  },
  {
   "cell_type": "markdown",
   "metadata": {
    "application/vnd.databricks.v1+cell": {
     "cellMetadata": {
      "byteLimit": 2048000,
      "rowLimit": 10000
     },
     "inputWidgets": {},
     "nuid": "6f9f8600-7c6c-47e4-87dc-29fb66b9c12d",
     "showTitle": false,
     "tableResultSettingsMap": {},
     "title": ""
    }
   },
   "source": [
    "## Total Wins by Team"
   ]
  },
  {
   "cell_type": "code",
   "execution_count": 0,
   "metadata": {
    "application/vnd.databricks.v1+cell": {
     "cellMetadata": {
      "byteLimit": 2048000,
      "rowLimit": 10000
     },
     "inputWidgets": {},
     "nuid": "bc8e554e-60b8-436d-8d25-f1bbac108498",
     "showTitle": false,
     "tableResultSettingsMap": {},
     "title": ""
    }
   },
   "outputs": [
    {
     "output_type": "display_data",
     "data": {
      "image/png": "[encoded data removed]"
     },
     "metadata": {
      "application/vnd.databricks.v1+output": {
       "addedWidgets": {},
       "arguments": {},
       "data": "data:image/png;base64,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\n",
       "datasetInfos": [],
       "metadata": {},
       "removedWidgets": [],
       "type": "image"
      }
     },
     "output_type": "display_data"
    }
   ],
   "source": [
    "team_wins = matches_df.groupBy(\"winner\").count().orderBy(\"count\", ascending=False).toPandas()\n",
    "\n",
    "plt.figure(figsize=(10, 5))\n",
    "sns.barplot(data=team_wins, x=\"count\", y=\"winner\", palette=\"viridis\")\n",
    "plt.title(\"Total Wins by IPL Teams\")\n",
    "plt.xlabel(\"Wins\")\n",
    "plt.ylabel(\"Team\")\n",
    "plt.tight_layout()\n",
    "plt.show()\n"
   ]
  },
  {
   "cell_type": "code",
   "execution_count": 0,
   "metadata": {
    "application/vnd.databricks.v1+cell": {
     "cellMetadata": {
      "byteLimit": 2048000,
      "rowLimit": 10000
     },
     "inputWidgets": {},
     "nuid": "afbdbe98-0487-47f9-8cba-65806cd1af9c",
     "showTitle": false,
     "tableResultSettingsMap": {},
     "title": ""
    }
   },
   "outputs": [
    {
     "output_type": "display_data",
     "data": {
      "image/png": "[encoded data removed]"
     },
     "metadata": {
      "application/vnd.databricks.v1+output": {
       "addedWidgets": {},
       "arguments": {},
       "data": "data:image/png;base64,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\n",
       "datasetInfos": [],
       "metadata": {},
       "removedWidgets": [],
       "type": "image"
      }
     },
     "output_type": "display_data"
    }
   ],
   "source": [
    "venue_counts = matches_df.groupBy(\"venue\").count().orderBy(\"count\", ascending=False).limit(10).toPandas()\n",
    "\n",
    "plt.figure(figsize=(10, 5))\n",
    "sns.barplot(data=venue_counts, y=\"venue\", x=\"count\", palette=\"rocket\")\n",
    "plt.title(\"Top 10 Venues by Number of Matches\")\n",
    "plt.xlabel(\"Match Count\")\n",
    "plt.ylabel(\"Venue\")\n",
    "plt.tight_layout()\n",
    "plt.show()\n"
   ]
  },
  {
   "cell_type": "code",
   "execution_count": 0,
   "metadata": {
    "application/vnd.databricks.v1+cell": {
     "cellMetadata": {
      "byteLimit": 2048000,
      "rowLimit": 10000
     },
     "inputWidgets": {},
     "nuid": "171685d3-41e2-495f-85f7-a30d05be5f32",
     "showTitle": false,
     "tableResultSettingsMap": {},
     "title": ""
    }
   },
   "outputs": [
    {
     "output_type": "display_data",
     "data": {
      "image/png": "[encoded data removed]"
     },
     "metadata": {
      "application/vnd.databricks.v1+output": {
       "addedWidgets": {},
       "arguments": {},
       "data": "data:image/png;base64,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\n",
       "datasetInfos": [],
       "metadata": {},
       "removedWidgets": [],
       "type": "image"
      }
     },
     "output_type": "display_data"
    }
   ],
   "source": [
    "top_batters = deliveries_df.groupBy(\"batter\").agg(sum(\"batsman_runs\").alias(\"total_runs\")) \\\n",
    "    .orderBy(\"total_runs\", ascending=False).limit(10).toPandas()\n",
    "\n",
    "plt.figure(figsize=(10, 5))\n",
    "sns.barplot(data=top_batters, x=\"total_runs\", y=\"batter\", palette=\"magma\")\n",
    "plt.title(\"Top 10 Run Scorers in IPL\")\n",
    "plt.xlabel(\"Runs Scored\")\n",
    "plt.ylabel(\"Batter\")\n",
    "plt.tight_layout()\n",
    "plt.show()\n"
   ]
  },
  {
   "cell_type": "code",
   "execution_count": 0,
   "metadata": {
    "application/vnd.databricks.v1+cell": {
     "cellMetadata": {
      "byteLimit": 2048000,
      "rowLimit": 10000
     },
     "inputWidgets": {},
     "nuid": "9caf4586-8a9f-4712-ab11-f2c14ce1f44b",
     "showTitle": false,
     "tableResultSettingsMap": {},
     "title": ""
    }
   },
   "outputs": [
    {
     "output_type": "display_data",
     "data": {
      "image/png": "[encoded data removed]"
     },
     "metadata": {
      "application/vnd.databricks.v1+output": {
       "addedWidgets": {},
       "arguments": {},
       "data": "data:image/png;base64,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\n",
       "datasetInfos": [],
       "metadata": {},
       "removedWidgets": [],
       "type": "image"
      }
     },
     "output_type": "display_data"
    }
   ],
   "source": [
    "wickets_df = deliveries_df.filter((col(\"is_wicket\") == 1) & col(\"dismissal_kind\").isNotNull())\n",
    "\n",
    "top_bowlers = wickets_df.groupBy(\"bowler\").count().orderBy(\"count\", ascending=False).limit(10).toPandas()\n",
    "\n",
    "plt.figure(figsize=(10, 5))\n",
    "sns.barplot(data=top_bowlers, x=\"count\", y=\"bowler\", palette=\"icefire\")\n",
    "plt.title(\"Top 10 Wicket Takers in IPL\")\n",
    "plt.xlabel(\"Wickets\")\n",
    "plt.ylabel(\"Bowler\")\n",
    "plt.tight_layout()\n",
    "plt.show()\n"
   ]
  },
  {
   "cell_type": "code",
   "execution_count": 0,
   "metadata": {
    "application/vnd.databricks.v1+cell": {
     "cellMetadata": {
      "byteLimit": 2048000,
      "rowLimit": 10000
     },
     "inputWidgets": {},
     "nuid": "45aab0fc-a143-4ea0-b0a9-6ee943ad81e0",
     "showTitle": false,
     "tableResultSettingsMap": {},
     "title": ""
    }
   },
   "outputs": [
    {
     "output_type": "display_data",
     "data": {
      "image/png": "[encoded data removed]"
     },
     "metadata": {
      "application/vnd.databricks.v1+output": {
       "addedWidgets": {},
       "arguments": {},
       "data": "data:image/png;base64,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\n",
       "datasetInfos": [],
       "metadata": {},
       "removedWidgets": [],
       "type": "image"
      }
     },
     "output_type": "display_data"
    }
   ],
   "source": [
    "top_mvps = matches_df.groupBy(\"player_of_match\").count().orderBy(\"count\", ascending=False).limit(10).toPandas()\n",
    "\n",
    "plt.figure(figsize=(10, 5))\n",
    "sns.barplot(data=top_mvps, x=\"count\", y=\"player_of_match\", palette=\"flare\")\n",
    "plt.title(\"Top 10 Player of the Match Winners\")\n",
    "plt.xlabel(\"Awards\")\n",
    "plt.ylabel(\"Player\")\n",
    "plt.tight_layout()\n",
    "plt.show()\n"
   ]
  },
  {
   "cell_type": "code",
   "execution_count": 0,
   "metadata": {
    "application/vnd.databricks.v1+cell": {
     "cellMetadata": {
      "byteLimit": 2048000,
      "rowLimit": 10000
     },
     "inputWidgets": {},
     "nuid": "a3f6dd5b-89be-4eb6-ad78-98c85dfb0ede",
     "showTitle": false,
     "tableResultSettingsMap": {},
     "title": ""
    }
   },
   "outputs": [
    {
     "output_type": "display_data",
     "data": {
      "image/png": "[encoded data removed]"
     },
     "metadata": {
      "application/vnd.databricks.v1+output": {
       "addedWidgets": {},
       "arguments": {},
       "data": "data:image/png;base64,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\n",
       "datasetInfos": [],
       "metadata": {},
       "removedWidgets": [],
       "type": "image"
      }
     },
     "output_type": "display_data"
    }
   ],
   "source": [
    "# Convert ball_no to over\n",
    "ball_by_ball_df = ball_by_ball_df.withColumn(\"over\", floor(col(\"ball_no\")))\n",
    "\n",
    "# Define over phases\n",
    "ball_by_ball_df = ball_by_ball_df.withColumn(\"phase\",\n",
    "    when(col(\"over\") <= 6, \"Powerplay\")\n",
    "    .when((col(\"over\") > 6) & (col(\"over\") <= 15), \"Middle Overs\")\n",
    "    .otherwise(\"Death Overs\")\n",
    ")\n",
    "\n",
    "# Aggregate runs by phase\n",
    "phase_runs = ball_by_ball_df.groupBy(\"phase\").agg(sum(\"runs_scored\").alias(\"total_runs\")).toPandas()\n",
    "\n",
    "# Plot\n",
    "plt.figure(figsize=(7, 5))\n",
    "sns.barplot(data=phase_runs, x=\"phase\", y=\"total_runs\", palette=\"coolwarm\")\n",
    "plt.title(\"Total Runs Scored by Over Phase\")\n",
    "plt.xlabel(\"Match Phase\")\n",
    "plt.ylabel(\"Runs\")\n",
    "plt.tight_layout()\n",
    "plt.show()\n"
   ]
  },
  {
   "cell_type": "code",
   "execution_count": 0,
   "metadata": {
    "application/vnd.databricks.v1+cell": {
     "cellMetadata": {
      "byteLimit": 2048000,
      "rowLimit": 10000
     },
     "inputWidgets": {},
     "nuid": "9bce244d-399a-46bc-9391-14eb54a62d33",
     "showTitle": false,
     "tableResultSettingsMap": {},
     "title": ""
    }
   },
   "outputs": [
    {
     "output_type": "display_data",
     "data": {
      "image/png": "[encoded data removed]"
     },
     "metadata": {
      "application/vnd.databricks.v1+output": {
       "addedWidgets": {},
       "arguments": {},
       "data": "data:image/png;base64,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\n",
       "datasetInfos": [],
       "metadata": {},
       "removedWidgets": [],
       "type": "image"
      }
     },
     "output_type": "display_data"
    }
   ],
   "source": [
    "# Ensure column is present\n",
    "matches_df = matches_df.withColumn(\"toss_match_win\", matches_df[\"toss_winner\"] == matches_df[\"winner\"])\n",
    "\n",
    "season_impact = matches_df.groupBy(\"season\", \"toss_match_win\").count().toPandas()\n",
    "pivot_season = season_impact.pivot(index=\"season\", columns=\"toss_match_win\", values=\"count\").fillna(0)\n",
    "pivot_season.columns = [\"Toss Lost & Won\", \"Toss Won & Won\"]\n",
    "\n",
    "# Plot\n",
    "pivot_season.plot(kind=\"bar\", figsize=(12, 6), stacked=False, colormap=\"Accent\")\n",
    "plt.title(\"Match Outcomes by Toss Result per Season\")\n",
    "plt.ylabel(\"Match Count\")\n",
    "plt.xlabel(\"Season\")\n",
    "plt.xticks(rotation=45)\n",
    "plt.tight_layout()\n",
    "plt.show()\n"
   ]
  },
  {
   "cell_type": "markdown",
   "metadata": {
    "application/vnd.databricks.v1+cell": {
     "cellMetadata": {
      "byteLimit": 2048000,
      "rowLimit": 10000
     },
     "inputWidgets": {},
     "nuid": "fe9ed151-03bb-48aa-949b-e7ac4f574c65",
     "showTitle": false,
     "tableResultSettingsMap": {},
     "title": ""
    }
   },
   "source": [
    "# Feature Engineering"
   ]
  },
  {
   "cell_type": "markdown",
   "metadata": {
    "application/vnd.databricks.v1+cell": {
     "cellMetadata": {
      "byteLimit": 2048000,
      "rowLimit": 10000
     },
     "inputWidgets": {},
     "nuid": "9d446a0d-5b61-4fa7-ab5c-37dbdd53b899",
     "showTitle": false,
     "tableResultSettingsMap": {},
     "title": ""
    }
   },
   "source": [
    "## Create Label and Bat First Team"
   ]
  },
  {
   "cell_type": "code",
   "execution_count": 0,
   "metadata": {
    "application/vnd.databricks.v1+cell": {
     "cellMetadata": {
      "byteLimit": 2048000,
      "rowLimit": 10000
     },
     "inputWidgets": {},
     "nuid": "271dfd3d-8662-43a1-a1ae-85b8ddeba039",
     "showTitle": false,
     "tableResultSettingsMap": {},
     "title": ""
    }
   },
   "outputs": [
    {
     "output_type": "stream",
     "name": "stdout",
     "output_type": "stream",
     "text": [
      "+--------------------+--------------------+--------------------+-------------+--------------------+--------------------+-----+\n|               team1|               team2|         toss_winner|toss_decision|      bat_first_team|              winner|label|\n+--------------------+--------------------+--------------------+-------------+--------------------+--------------------+-----+\n|Royal Challengers...|Kolkata Knight Ri...|Royal Challengers...|        field|Kolkata Knight Ri...|Kolkata Knight Ri...|    0|\n|        Punjab Kings| Chennai Super Kings| Chennai Super Kings|          bat| Chennai Super Kings| Chennai Super Kings|    0|\n|      Delhi Capitals|    Rajasthan Royals|    Rajasthan Royals|          bat|    Rajasthan Royals|      Delhi Capitals|    1|\n|      Mumbai Indians|Royal Challengers...|      Mumbai Indians|          bat|      Mumbai Indians|Royal Challengers...|    0|\n|Kolkata Knight Ri...| Sunrisers Hyderabad| Sunrisers Hyderabad|          bat| Sunrisers Hyderabad|Kolkata Knight Ri...|    1|\n+--------------------+--------------------+--------------------+-------------+--------------------+--------------------+-----+\nonly showing top 5 rows\n\n"
     ]
    }
   ],
   "source": [
    "from pyspark.sql.functions import when\n",
    "\n",
    "# Create label: 1 if team1 won the match, else 0\n",
    "matches_df = matches_df.withColumn(\"label\", when(matches_df[\"winner\"] == matches_df[\"team1\"], 1).otherwise(0))\n",
    "\n",
    "# Create bat_first_team column based on toss decision\n",
    "matches_df = matches_df.withColumn(\"bat_first_team\",\n",
    "    when(matches_df[\"toss_decision\"] == \"bat\", matches_df[\"toss_winner\"])\n",
    "    .otherwise(when(matches_df[\"toss_winner\"] == matches_df[\"team1\"], matches_df[\"team2\"]).otherwise(matches_df[\"team1\"]))\n",
    ")\n",
    "\n",
    "# Preview\n",
    "matches_df.select(\"team1\", \"team2\", \"toss_winner\", \"toss_decision\", \"bat_first_team\", \"winner\", \"label\").show(5)"
   ]
  },
  {
   "cell_type": "code",
   "execution_count": 0,
   "metadata": {
    "application/vnd.databricks.v1+cell": {
     "cellMetadata": {
      "byteLimit": 2048000,
      "rowLimit": 10000
     },
     "inputWidgets": {},
     "nuid": "229947ce-87c8-475b-9bbf-3b11040e584f",
     "showTitle": false,
     "tableResultSettingsMap": {},
     "title": ""
    }
   },
   "outputs": [],
   "source": [
    "from pyspark.sql.functions import split, col, avg\n",
    "\n",
    "# Step 1: Split \"Team\" into team_A and team_B\n",
    "team_perf_split = team_perf_df.withColumn(\"team_A\", split(col(\"Team\"), \" vs \").getItem(0)) \\\n",
    "                              .withColumn(\"team_B\", split(col(\"Team\"), \" vs \").getItem(1))\n",
    "\n",
    "# Step 2: Flatten into one row per team\n",
    "team_A_df = team_perf_split.select(\n",
    "    col(\"team_A\").alias(\"Team\"),\n",
    "    \"First_Innings_Score\",\n",
    "    \"Second_Innings_Score\"\n",
    ")\n",
    "\n",
    "team_B_df = team_perf_split.select(\n",
    "    col(\"team_B\").alias(\"Team\"),\n",
    "    \"First_Innings_Score\",\n",
    "    \"Second_Innings_Score\"\n",
    ")\n",
    "\n",
    "# Step 3: Union both\n",
    "team_scores_long = team_A_df.union(team_B_df)\n",
    "\n",
    "# Step 4: Compute per-team average scores\n",
    "team_avg_scores = team_scores_long.groupBy(\"Team\").agg(\n",
    "    avg(\"First_Innings_Score\").alias(\"avg_first_innings_score\"),\n",
    "    avg(\"Second_Innings_Score\").alias(\"avg_second_innings_score\")\n",
    ")"
   ]
  },
  {
   "cell_type": "code",
   "execution_count": 0,
   "metadata": {
    "application/vnd.databricks.v1+cell": {
     "cellMetadata": {
      "byteLimit": 2048000,
      "rowLimit": 10000
     },
     "inputWidgets": {},
     "nuid": "7c23a328-5b11-41cb-8bb0-d4f7c86a49f0",
     "showTitle": false,
     "tableResultSettingsMap": {},
     "title": ""
    }
   },
   "outputs": [],
   "source": [
    "# Drop any existing conflicting columns before rejoining\n",
    "for col_name in [\"team1_avg_runs\", \"team2_avg_conceded\", \"avg_first_innings_score\", \"avg_second_innings_score\"]:\n",
    "    if col_name in matches_df.columns:\n",
    "        matches_df = matches_df.drop(col_name)"
   ]
  },
  {
   "cell_type": "code",
   "execution_count": 0,
   "metadata": {
    "application/vnd.databricks.v1+cell": {
     "cellMetadata": {
      "byteLimit": 2048000,
      "rowLimit": 10000
     },
     "inputWidgets": {},
     "nuid": "5eac5a86-ce26-4b2a-b4ec-a435b25bd88c",
     "showTitle": false,
     "tableResultSettingsMap": {},
     "title": ""
    }
   },
   "outputs": [
    {
     "output_type": "stream",
     "name": "stdout",
     "output_type": "stream",
     "text": [
      "+--------------------+--------------------+------------------+------------------+\n|               team1|               team2|    team1_avg_runs|team2_avg_conceded|\n+--------------------+--------------------+------------------+------------------+\n|Royal Challengers...|Kolkata Knight Ri...|165.91666666666666|149.65040650406505|\n|        Punjab Kings| Chennai Super Kings| 173.1346153846154|152.59656652360516|\n|      Delhi Capitals|    Rajasthan Royals|172.98863636363637| 151.6355140186916|\n|      Mumbai Indians|Royal Challengers...| 166.3579766536965|149.68200836820083|\n|Kolkata Knight Ri...| Sunrisers Hyderabad| 162.5772357723577|152.49142857142857|\n+--------------------+--------------------+------------------+------------------+\nonly showing top 5 rows\n\n"
     ]
    }
   ],
   "source": [
    "# Step 5: Join for team1 (batting team)\n",
    "matches_df = matches_df.join(\n",
    "    team_avg_scores.withColumnRenamed(\"Team\", \"team1\"),\n",
    "    on=\"team1\", how=\"left\"\n",
    ").withColumnRenamed(\"avg_first_innings_score\", \"team1_avg_runs\")\n",
    "\n",
    "# Step 6: Prepare for team2 (bowling team)\n",
    "team_avg_scores_team2 = team_avg_scores \\\n",
    "    .withColumnRenamed(\"Team\", \"team2\") \\\n",
    "    .withColumnRenamed(\"avg_second_innings_score\", \"team2_avg_conceded\") \\\n",
    "    .drop(\"avg_first_innings_score\")  # avoid ambiguity\n",
    "\n",
    "# Step 7: Join for team2\n",
    "matches_df = matches_df.join(\n",
    "    team_avg_scores_team2,\n",
    "    on=\"team2\", how=\"left\"\n",
    ")\n",
    "\n",
    "# Step 8: Preview output\n",
    "matches_df.select(\"team1\", \"team2\", \"team1_avg_runs\", \"team2_avg_conceded\").show(5)"
   ]
  },
  {
   "cell_type": "markdown",
   "metadata": {
    "application/vnd.databricks.v1+cell": {
     "cellMetadata": {
      "byteLimit": 2048000,
      "rowLimit": 10000
     },
     "inputWidgets": {},
     "nuid": "0b5ffb62-33b0-4f40-86ed-649038150c97",
     "showTitle": false,
     "tableResultSettingsMap": {},
     "title": ""
    }
   },
   "source": [
    "# Data Modeling"
   ]
  },
  {
   "cell_type": "markdown",
   "metadata": {
    "application/vnd.databricks.v1+cell": {
     "cellMetadata": {
      "byteLimit": 2048000,
      "rowLimit": 10000
     },
     "inputWidgets": {},
     "nuid": "2678b52c-7958-47b1-b781-64141f16cb0f",
     "showTitle": false,
     "tableResultSettingsMap": {},
     "title": ""
    }
   },
   "source": [
    "## Train Decision tree"
   ]
  },
  {
   "cell_type": "code",
   "execution_count": 0,
   "metadata": {
    "application/vnd.databricks.v1+cell": {
     "cellMetadata": {
      "byteLimit": 2048000,
      "rowLimit": 10000
     },
     "inputWidgets": {},
     "nuid": "08598c50-bc9c-4748-ac51-aa1fc0cfa86d",
     "showTitle": false,
     "tableResultSettingsMap": {},
     "title": ""
    }
   },
   "outputs": [],
   "source": [
    "from pyspark.ml.feature import StringIndexer, VectorAssembler\n",
    "\n",
    "# Define the categorical columns to index\n",
    "cat_cols = [\"team1\", \"team2\", \"toss_winner\", \"toss_decision\", \"bat_first_team\", \"season\"]\n",
    "\n",
    "# Indexers\n",
    "indexers = [\n",
    "    StringIndexer(inputCol=col, outputCol=col + \"_index\", handleInvalid=\"keep\")\n",
    "    for col in cat_cols\n",
    "]\n",
    "\n",
    "# Vector assembler (combine indexed categorical and numerical features)\n",
    "assembler = VectorAssembler(\n",
    "    inputCols=[col + \"_index\" for col in cat_cols] + [\"team1_avg_runs\", \"team2_avg_conceded\"],\n",
    "    outputCol=\"features\"\n",
    ")"
   ]
  },
  {
   "cell_type": "code",
   "execution_count": 0,
   "metadata": {
    "application/vnd.databricks.v1+cell": {
     "cellMetadata": {
      "byteLimit": 2048000,
      "rowLimit": 10000
     },
     "inputWidgets": {},
     "nuid": "7a678cfb-af28-4c95-b0a5-f790017902b9",
     "showTitle": false,
     "tableResultSettingsMap": {},
     "title": ""
    }
   },
   "outputs": [],
   "source": [
    "from pyspark.ml.classification import DecisionTreeClassifier\n",
    "from pyspark.ml import Pipeline\n",
    "from pyspark.ml.evaluation import BinaryClassificationEvaluator\n",
    "from pyspark.sql.functions import col\n",
    "\n",
    "# Define Decision Tree\n",
    "dt = DecisionTreeClassifier(labelCol=\"label\", featuresCol=\"features\", maxDepth=5)\n",
    "\n",
    "# Build pipeline\n",
    "dt_pipeline = Pipeline(stages=indexers + [assembler, dt])\n",
    "\n",
    "# Split dataset\n",
    "train_df, test_df = matches_df.randomSplit([0.8, 0.2], seed=42)\n",
    "\n",
    "# Train\n",
    "dt_model = dt_pipeline.fit(train_df)\n",
    "\n",
    "# Predict\n",
    "dt_predictions = dt_model.transform(test_df)"
   ]
  },
  {
   "cell_type": "code",
   "execution_count": 0,
   "metadata": {
    "application/vnd.databricks.v1+cell": {
     "cellMetadata": {
      "byteLimit": 2048000,
      "rowLimit": 10000
     },
     "inputWidgets": {},
     "nuid": "e7c3ac51-d856-47fe-87da-0b9f7d4591e3",
     "showTitle": false,
     "tableResultSettingsMap": {},
     "title": ""
    }
   },
   "outputs": [
    {
     "output_type": "stream",
     "name": "stdout",
     "output_type": "stream",
     "text": [
      "Decision Tree Accuracy: 49.46%\nAUC: 0.53\nPrecision: 0.5 | Recall: 0.6237 | F1: 0.555\n"
     ]
    }
   ],
   "source": [
    "# Evaluator\n",
    "evaluator = BinaryClassificationEvaluator(labelCol=\"label\", rawPredictionCol=\"rawPrediction\", metricName=\"areaUnderROC\")\n",
    "\n",
    "# Metrics\n",
    "dt_auc = evaluator.evaluate(dt_predictions)\n",
    "dt_accuracy = dt_predictions.filter(col(\"label\") == col(\"prediction\")).count() / dt_predictions.count()\n",
    "\n",
    "# Confusion Matrix\n",
    "tp = dt_predictions.filter((col(\"label\") == 1) & (col(\"prediction\") == 1)).count()\n",
    "tn = dt_predictions.filter((col(\"label\") == 0) & (col(\"prediction\") == 0)).count()\n",
    "fp = dt_predictions.filter((col(\"label\") == 0) & (col(\"prediction\") == 1)).count()\n",
    "fn = dt_predictions.filter((col(\"label\") == 1) & (col(\"prediction\") == 0)).count()\n",
    "\n",
    "dt_precision = tp / (tp + fp) if (tp + fp) else 0\n",
    "dt_recall = tp / (tp + fn) if (tp + fn) else 0\n",
    "dt_f1 = 2 * dt_precision * dt_recall / (dt_precision + dt_recall) if (dt_precision + dt_recall) else 0\n",
    "\n",
    "print(f\"Decision Tree Accuracy: {round(dt_accuracy * 100, 2)}%\")\n",
    "print(f\"AUC: {round(dt_auc, 4)}\")\n",
    "print(f\"Precision: {round(dt_precision, 4)} | Recall: {round(dt_recall, 4)} | F1: {round(dt_f1, 4)}\")"
   ]
  },
  {
   "cell_type": "markdown",
   "metadata": {
    "application/vnd.databricks.v1+cell": {
     "cellMetadata": {
      "byteLimit": 2048000,
      "rowLimit": 10000
     },
     "inputWidgets": {},
     "nuid": "77afcac7-18c5-4030-b07b-627e73528ad9",
     "showTitle": false,
     "tableResultSettingsMap": {},
     "title": ""
    }
   },
   "source": [
    "## Random Forest Classifier"
   ]
  },
  {
   "cell_type": "code",
   "execution_count": 0,
   "metadata": {
    "application/vnd.databricks.v1+cell": {
     "cellMetadata": {
      "byteLimit": 2048000,
      "rowLimit": 10000
     },
     "inputWidgets": {},
     "nuid": "66625d60-c682-4f69-af4d-f3f48a542340",
     "showTitle": false,
     "tableResultSettingsMap": {},
     "title": ""
    }
   },
   "outputs": [],
   "source": [
    "from pyspark.ml.classification import RandomForestClassifier\n",
    "from pyspark.ml import Pipeline\n",
    "\n",
    "# Define Random Forest model\n",
    "rf = RandomForestClassifier(labelCol=\"label\", featuresCol=\"features\", numTrees=100, maxDepth=5)\n",
    "\n",
    "# Pipeline\n",
    "rf_pipeline = Pipeline(stages=indexers + [assembler, rf])\n",
    "\n",
    "# Train\n",
    "rf_model = rf_pipeline.fit(train_df)\n",
    "\n",
    "# Predict\n",
    "rf_predictions = rf_model.transform(test_df)"
   ]
  },
  {
   "cell_type": "code",
   "execution_count": 0,
   "metadata": {
    "application/vnd.databricks.v1+cell": {
     "cellMetadata": {
      "byteLimit": 2048000,
      "rowLimit": 10000
     },
     "inputWidgets": {},
     "nuid": "40e27b8d-d3a9-4bdb-805f-cb0d11de57ca",
     "showTitle": false,
     "tableResultSettingsMap": {},
     "title": ""
    }
   },
   "outputs": [
    {
     "output_type": "stream",
     "name": "stdout",
     "output_type": "stream",
     "text": [
      "Random Forest Accuracy: 49.46%\nAUC: 0.4852\nPrecision: 0.5 | Recall: 0.4731 | F1: 0.4862\n"
     ]
    }
   ],
   "source": [
    "# AUC\n",
    "rf_auc = evaluator.evaluate(rf_predictions)\n",
    "\n",
    "# Accuracy\n",
    "rf_accuracy = rf_predictions.filter(col(\"label\") == col(\"prediction\")).count() / rf_predictions.count()\n",
    "\n",
    "# Confusion Matrix components\n",
    "tp = rf_predictions.filter((col(\"label\") == 1) & (col(\"prediction\") == 1)).count()\n",
    "tn = rf_predictions.filter((col(\"label\") == 0) & (col(\"prediction\") == 0)).count()\n",
    "fp = rf_predictions.filter((col(\"label\") == 0) & (col(\"prediction\") == 1)).count()\n",
    "fn = rf_predictions.filter((col(\"label\") == 1) & (col(\"prediction\") == 0)).count()\n",
    "\n",
    "# Metrics\n",
    "rf_precision = tp / (tp + fp) if (tp + fp) else 0\n",
    "rf_recall = tp / (tp + fn) if (tp + fn) else 0\n",
    "rf_f1 = 2 * rf_precision * rf_recall / (rf_precision + rf_recall) if (rf_precision + rf_recall) else 0\n",
    "\n",
    "# Print results\n",
    "print(f\"Random Forest Accuracy: {round(rf_accuracy * 100, 2)}%\")\n",
    "print(f\"AUC: {round(rf_auc, 4)}\")\n",
    "print(f\"Precision: {round(rf_precision, 4)} | Recall: {round(rf_recall, 4)} | F1: {round(rf_f1, 4)}\")"
   ]
  },
  {
   "cell_type": "markdown",
   "metadata": {
    "application/vnd.databricks.v1+cell": {
     "cellMetadata": {
      "byteLimit": 2048000,
      "rowLimit": 10000
     },
     "inputWidgets": {},
     "nuid": "783deb67-99f8-4fde-ab14-28bf08c1cc3f",
     "showTitle": false,
     "tableResultSettingsMap": {},
     "title": ""
    }
   },
   "source": [
    "## GBT Classifier"
   ]
  },
  {
   "cell_type": "code",
   "execution_count": 0,
   "metadata": {
    "application/vnd.databricks.v1+cell": {
     "cellMetadata": {
      "byteLimit": 2048000,
      "rowLimit": 10000
     },
     "inputWidgets": {},
     "nuid": "960dc43d-d0e6-4440-ad4f-aa9235b09673",
     "showTitle": false,
     "tableResultSettingsMap": {},
     "title": ""
    }
   },
   "outputs": [],
   "source": [
    "from pyspark.ml.classification import GBTClassifier\n",
    "\n",
    "# Define GBT model\n",
    "gbt = GBTClassifier(labelCol=\"label\", featuresCol=\"features\", maxIter=50, maxDepth=5)\n",
    "\n",
    "# Pipeline\n",
    "gbt_pipeline = Pipeline(stages=indexers + [assembler, gbt])\n",
    "\n",
    "# Train\n",
    "gbt_model = gbt_pipeline.fit(train_df)\n",
    "\n",
    "# Predict\n",
    "gbt_predictions = gbt_model.transform(test_df)"
   ]
  },
  {
   "cell_type": "code",
   "execution_count": 0,
   "metadata": {
    "application/vnd.databricks.v1+cell": {
     "cellMetadata": {
      "byteLimit": 2048000,
      "rowLimit": 10000
     },
     "inputWidgets": {},
     "nuid": "78f7a4b8-b526-4494-96bd-cf6ee4070b59",
     "showTitle": false,
     "tableResultSettingsMap": {},
     "title": ""
    }
   },
   "outputs": [
    {
     "output_type": "stream",
     "name": "stdout",
     "output_type": "stream",
     "text": [
      "GBT Accuracy: 47.28%\nAUC: 0.4534\nPrecision: 0.4796 | Recall: 0.5054 | F1: 0.4921\n"
     ]
    }
   ],
   "source": [
    "# AUC\n",
    "gbt_auc = evaluator.evaluate(gbt_predictions)\n",
    "\n",
    "# Accuracy\n",
    "gbt_accuracy = gbt_predictions.filter(col(\"label\") == col(\"prediction\")).count() / gbt_predictions.count()\n",
    "\n",
    "# Confusion matrix components\n",
    "tp = gbt_predictions.filter((col(\"label\") == 1) & (col(\"prediction\") == 1)).count()\n",
    "tn = gbt_predictions.filter((col(\"label\") == 0) & (col(\"prediction\") == 0)).count()\n",
    "fp = gbt_predictions.filter((col(\"label\") == 0) & (col(\"prediction\") == 1)).count()\n",
    "fn = gbt_predictions.filter((col(\"label\") == 1) & (col(\"prediction\") == 0)).count()\n",
    "\n",
    "# Metrics\n",
    "gbt_precision = tp / (tp + fp) if (tp + fp) else 0\n",
    "gbt_recall = tp / (tp + fn) if (tp + fn) else 0\n",
    "gbt_f1 = 2 * gbt_precision * gbt_recall / (gbt_precision + gbt_recall) if (gbt_precision + gbt_recall) else 0\n",
    "\n",
    "# Print results\n",
    "print(f\"GBT Accuracy: {round(gbt_accuracy * 100, 2)}%\")\n",
    "print(f\"AUC: {round(gbt_auc, 4)}\")\n",
    "print(f\"Precision: {round(gbt_precision, 4)} | Recall: {round(gbt_recall, 4)} | F1: {round(gbt_f1, 4)}\")"
   ]
  },
  {
   "cell_type": "markdown",
   "metadata": {
    "application/vnd.databricks.v1+cell": {
     "cellMetadata": {
      "byteLimit": 2048000,
      "rowLimit": 10000
     },
     "inputWidgets": {},
     "nuid": "2402ca16-35a0-433d-b9c6-78f405899ad6",
     "showTitle": false,
     "tableResultSettingsMap": {},
     "title": ""
    }
   },
   "source": [
    "## Logistic Regression "
   ]
  },
  {
   "cell_type": "code",
   "execution_count": 0,
   "metadata": {
    "application/vnd.databricks.v1+cell": {
     "cellMetadata": {
      "byteLimit": 2048000,
      "rowLimit": 10000
     },
     "inputWidgets": {},
     "nuid": "802e9706-282a-467b-9872-9faaae8e0ef7",
     "showTitle": false,
     "tableResultSettingsMap": {},
     "title": ""
    }
   },
   "outputs": [],
   "source": [
    "from pyspark.ml.classification import LogisticRegression\n",
    "\n",
    "# Define Logistic Regression model\n",
    "lr = LogisticRegression(labelCol=\"label\", featuresCol=\"features\", maxIter=100)\n",
    "\n",
    "# Pipeline\n",
    "lr_pipeline = Pipeline(stages=indexers + [assembler, lr])\n",
    "\n",
    "# Train\n",
    "lr_model = lr_pipeline.fit(train_df)\n",
    "\n",
    "# Predict\n",
    "lr_predictions = lr_model.transform(test_df)"
   ]
  },
  {
   "cell_type": "code",
   "execution_count": 0,
   "metadata": {
    "application/vnd.databricks.v1+cell": {
     "cellMetadata": {
      "byteLimit": 2048000,
      "rowLimit": 10000
     },
     "inputWidgets": {},
     "nuid": "b8fd4b31-f6f2-47e3-b67b-23d0ea4cf3c1",
     "showTitle": false,
     "tableResultSettingsMap": {},
     "title": ""
    }
   },
   "outputs": [
    {
     "output_type": "stream",
     "name": "stdout",
     "output_type": "stream",
     "text": [
      "Logistic Regression Accuracy: 52.17%\nAUC: 0.5322\nPrecision: 0.5258 | Recall: 0.5484 | F1: 0.5368\n"
     ]
    }
   ],
   "source": [
    "# AUC\n",
    "lr_auc = evaluator.evaluate(lr_predictions)\n",
    "\n",
    "# Accuracy\n",
    "lr_accuracy = lr_predictions.filter(col(\"label\") == col(\"prediction\")).count() / lr_predictions.count()\n",
    "\n",
    "# Confusion matrix components\n",
    "tp = lr_predictions.filter((col(\"label\") == 1) & (col(\"prediction\") == 1)).count()\n",
    "tn = lr_predictions.filter((col(\"label\") == 0) & (col(\"prediction\") == 0)).count()\n",
    "fp = lr_predictions.filter((col(\"label\") == 0) & (col(\"prediction\") == 1)).count()\n",
    "fn = lr_predictions.filter((col(\"label\") == 1) & (col(\"prediction\") == 0)).count()\n",
    "\n",
    "# Metrics\n",
    "lr_precision = tp / (tp + fp) if (tp + fp) else 0\n",
    "lr_recall = tp / (tp + fn) if (tp + fn) else 0\n",
    "lr_f1 = 2 * lr_precision * lr_recall / (lr_precision + lr_recall) if (lr_precision + lr_recall) else 0\n",
    "\n",
    "# Print results\n",
    "print(f\"Logistic Regression Accuracy: {round(lr_accuracy * 100, 2)}%\")\n",
    "print(f\"AUC: {round(lr_auc, 4)}\")\n",
    "print(f\"Precision: {round(lr_precision, 4)} | Recall: {round(lr_recall, 4)} | F1: {round(lr_f1, 4)}\")"
   ]
  },
  {
   "cell_type": "markdown",
   "metadata": {
    "application/vnd.databricks.v1+cell": {
     "cellMetadata": {
      "byteLimit": 2048000,
      "rowLimit": 10000
     },
     "inputWidgets": {},
     "nuid": "377e2170-5f9e-4dc8-a7fb-7618e8a553d4",
     "showTitle": false,
     "tableResultSettingsMap": {},
     "title": ""
    }
   },
   "source": [
    "## Neural Network (MLPC)"
   ]
  },
  {
   "cell_type": "code",
   "execution_count": 0,
   "metadata": {
    "application/vnd.databricks.v1+cell": {
     "cellMetadata": {
      "byteLimit": 2048000,
      "rowLimit": 10000
     },
     "inputWidgets": {},
     "nuid": "28a2ce98-05e5-4bcc-b795-3398ae1e21c0",
     "showTitle": false,
     "tableResultSettingsMap": {},
     "title": ""
    }
   },
   "outputs": [],
   "source": [
    "from pyspark.ml.classification import MultilayerPerceptronClassifier\n",
    "\n",
    "# Define input size\n",
    "input_size = len([col + \"_index\" for col in cat_cols] + [\"team1_avg_runs\", \"team2_avg_conceded\"])\n",
    "\n",
    "# Define neural network structure\n",
    "layers = [input_size, 10, 5, 2]  # input → hidden → output\n",
    "\n",
    "# MLPC model\n",
    "mlpc = MultilayerPerceptronClassifier(\n",
    "    featuresCol=\"features\",\n",
    "    labelCol=\"label\",\n",
    "    maxIter=100,\n",
    "    layers=layers,\n",
    "    blockSize=128,\n",
    "    seed=123\n",
    ")\n",
    "\n",
    "# Pipeline\n",
    "mlpc_pipeline = Pipeline(stages=indexers + [assembler, mlpc])\n",
    "\n",
    "# Train\n",
    "mlpc_model = mlpc_pipeline.fit(train_df)\n",
    "\n",
    "# Predict\n",
    "mlpc_predictions = mlpc_model.transform(test_df)"
   ]
  },
  {
   "cell_type": "code",
   "execution_count": 0,
   "metadata": {
    "application/vnd.databricks.v1+cell": {
     "cellMetadata": {
      "byteLimit": 2048000,
      "rowLimit": 10000
     },
     "inputWidgets": {},
     "nuid": "23cee41d-747e-45de-865d-50f958bb0611",
     "showTitle": false,
     "tableResultSettingsMap": {},
     "title": ""
    }
   },
   "outputs": [
    {
     "output_type": "stream",
     "name": "stdout",
     "output_type": "stream",
     "text": [
      "Neural Network (MLPC) Accuracy: 50.54%\nAUC: 0.5096\nPrecision: 0.5054 | Recall: 1.0 | F1: 0.6715\n"
     ]
    }
   ],
   "source": [
    "# AUC\n",
    "mlpc_auc = evaluator.evaluate(mlpc_predictions)\n",
    "\n",
    "# Accuracy\n",
    "mlpc_accuracy = mlpc_predictions.filter(col(\"label\") == col(\"prediction\")).count() / mlpc_predictions.count()\n",
    "\n",
    "# Confusion matrix\n",
    "tp = mlpc_predictions.filter((col(\"label\") == 1) & (col(\"prediction\") == 1)).count()\n",
    "tn = mlpc_predictions.filter((col(\"label\") == 0) & (col(\"prediction\") == 0)).count()\n",
    "fp = mlpc_predictions.filter((col(\"label\") == 0) & (col(\"prediction\") == 1)).count()\n",
    "fn = mlpc_predictions.filter((col(\"label\") == 1) & (col(\"prediction\") == 0)).count()\n",
    "\n",
    "# Metrics\n",
    "mlpc_precision = tp / (tp + fp) if (tp + fp) else 0\n",
    "mlpc_recall = tp / (tp + fn) if (tp + fn) else 0\n",
    "mlpc_f1 = 2 * mlpc_precision * mlpc_recall / (mlpc_precision + mlpc_recall) if (mlpc_precision + mlpc_recall) else 0\n",
    "\n",
    "# Print results\n",
    "print(f\"Neural Network (MLPC) Accuracy: {round(mlpc_accuracy * 100, 2)}%\")\n",
    "print(f\"AUC: {round(mlpc_auc, 4)}\")\n",
    "print(f\"Precision: {round(mlpc_precision, 4)} | Recall: {round(mlpc_recall, 4)} | F1: {round(mlpc_f1, 4)}\")\n"
   ]
  },
  {
   "cell_type": "markdown",
   "metadata": {
    "application/vnd.databricks.v1+cell": {
     "cellMetadata": {
      "byteLimit": 2048000,
      "rowLimit": 10000
     },
     "inputWidgets": {},
     "nuid": "4942fca0-1e6d-4f50-87ba-bac7146d7886",
     "showTitle": false,
     "tableResultSettingsMap": {},
     "title": ""
    }
   },
   "source": [
    "# Improving the Accuracy"
   ]
  },
  {
   "cell_type": "markdown",
   "metadata": {
    "application/vnd.databricks.v1+cell": {
     "cellMetadata": {
      "byteLimit": 2048000,
      "rowLimit": 10000
     },
     "inputWidgets": {},
     "nuid": "24bc1339-b90a-418c-9ea7-67a8c1b36a09",
     "showTitle": false,
     "tableResultSettingsMap": {},
     "title": ""
    }
   },
   "source": [
    "## Head-to-Head Win Rate"
   ]
  },
  {
   "cell_type": "code",
   "execution_count": 0,
   "metadata": {
    "application/vnd.databricks.v1+cell": {
     "cellMetadata": {
      "byteLimit": 2048000,
      "rowLimit": 10000
     },
     "inputWidgets": {},
     "nuid": "5f6ae01d-d75e-41c6-9175-81508665998e",
     "showTitle": false,
     "tableResultSettingsMap": {},
     "title": ""
    }
   },
   "outputs": [],
   "source": [
    "from pyspark.sql.functions import count, sum, round\n",
    "\n",
    "# Step 1: Count total matches between team1 and team2\n",
    "h2h_total = matches_df.groupBy(\"team1\", \"team2\").agg(count(\"*\").alias(\"h2h_total_matches\"))\n",
    "\n",
    "# Step 2: Count wins by team1 in those matchups\n",
    "h2h_wins = matches_df.filter(col(\"winner\") == col(\"team1\")) \\\n",
    "    .groupBy(\"team1\", \"team2\").agg(count(\"*\").alias(\"h2h_team1_wins\"))\n",
    "\n",
    "# Step 3: Join both\n",
    "headtohead_win_rate = h2h_total.join(h2h_wins, on=[\"team1\", \"team2\"], how=\"left\") \\\n",
    "    .fillna(0, subset=[\"h2h_team1_wins\"]) \\\n",
    "    .withColumn(\"h2h_win_rate\", round(col(\"h2h_team1_wins\") / col(\"h2h_total_matches\"), 3))"
   ]
  },
  {
   "cell_type": "code",
   "execution_count": 0,
   "metadata": {
    "application/vnd.databricks.v1+cell": {
     "cellMetadata": {
      "byteLimit": 2048000,
      "rowLimit": 10000
     },
     "inputWidgets": {},
     "nuid": "4c6b3835-66c0-448d-8fae-00cf7802340e",
     "showTitle": false,
     "tableResultSettingsMap": {},
     "title": ""
    }
   },
   "outputs": [],
   "source": [
    "# Add to matches_df\n",
    "matches_df = matches_df.join(headtohead_win_rate.select(\"team1\", \"team2\", \"h2h_win_rate\"),\n",
    "                              on=[\"team1\", \"team2\"], how=\"left\")"
   ]
  },
  {
   "cell_type": "markdown",
   "metadata": {
    "application/vnd.databricks.v1+cell": {
     "cellMetadata": {
      "byteLimit": 2048000,
      "rowLimit": 10000
     },
     "inputWidgets": {},
     "nuid": "f92d2a21-d20f-4816-a648-8d2a5efb0a34",
     "showTitle": false,
     "tableResultSettingsMap": {},
     "title": ""
    }
   },
   "source": [
    "##Recent Win Rate (Momentum Feature)"
   ]
  },
  {
   "cell_type": "code",
   "execution_count": 0,
   "metadata": {
    "application/vnd.databricks.v1+cell": {
     "cellMetadata": {
      "byteLimit": 2048000,
      "rowLimit": 10000
     },
     "inputWidgets": {},
     "nuid": "230e7501-4613-4dd1-82e5-953851107a73",
     "showTitle": false,
     "tableResultSettingsMap": {},
     "title": ""
    }
   },
   "outputs": [],
   "source": [
    "team_wins_by_season = matches_df.groupBy(\"season\", \"winner\") \\\n",
    "    .agg(count(\"*\").alias(\"season_wins\")) \\\n",
    "    .withColumnRenamed(\"winner\", \"team\")"
   ]
  },
  {
   "cell_type": "code",
   "execution_count": 0,
   "metadata": {
    "application/vnd.databricks.v1+cell": {
     "cellMetadata": {
      "byteLimit": 2048000,
      "rowLimit": 10000
     },
     "inputWidgets": {},
     "nuid": "3d8b0a38-09c4-47db-aa95-08bd427b1278",
     "showTitle": false,
     "tableResultSettingsMap": {},
     "title": ""
    }
   },
   "outputs": [],
   "source": [
    "from pyspark.sql.functions import expr\n",
    "\n",
    "# Create team match appearances (team1 + team2)\n",
    "team_matches_1 = matches_df.select(\"season\", col(\"team1\").alias(\"team\"))\n",
    "team_matches_2 = matches_df.select(\"season\", col(\"team2\").alias(\"team\"))\n",
    "team_matches = team_matches_1.union(team_matches_2)\n",
    "\n",
    "# Count matches played\n",
    "team_match_counts = team_matches.groupBy(\"season\", \"team\").agg(count(\"*\").alias(\"season_matches\"))"
   ]
  },
  {
   "cell_type": "code",
   "execution_count": 0,
   "metadata": {
    "application/vnd.databricks.v1+cell": {
     "cellMetadata": {
      "byteLimit": 2048000,
      "rowLimit": 10000
     },
     "inputWidgets": {},
     "nuid": "175a96b9-6a6c-48dc-a31b-7662bd38288b",
     "showTitle": false,
     "tableResultSettingsMap": {},
     "title": ""
    }
   },
   "outputs": [],
   "source": [
    "team_form = team_match_counts.join(team_wins_by_season, on=[\"season\", \"team\"], how=\"left\") \\\n",
    "    .fillna(0, subset=[\"season_wins\"]) \\\n",
    "    .withColumn(\"season_win_rate\", round(col(\"season_wins\") / col(\"season_matches\"), 3))"
   ]
  },
  {
   "cell_type": "code",
   "execution_count": 0,
   "metadata": {
    "application/vnd.databricks.v1+cell": {
     "cellMetadata": {
      "byteLimit": 2048000,
      "rowLimit": 10000
     },
     "inputWidgets": {},
     "nuid": "53a14b1b-b2c1-4f71-9aee-d1b898a8c0b3",
     "showTitle": false,
     "tableResultSettingsMap": {},
     "title": ""
    }
   },
   "outputs": [],
   "source": [
    "# Join for team1\n",
    "matches_df = matches_df.join(\n",
    "    team_form.withColumnRenamed(\"team\", \"team1\")\n",
    "             .withColumnRenamed(\"season_win_rate\", \"team1_season_win_rate\"),\n",
    "    on=[\"season\", \"team1\"], how=\"left\"\n",
    ")\n",
    "\n",
    "# Join for team2\n",
    "matches_df = matches_df.join(\n",
    "    team_form.withColumnRenamed(\"team\", \"team2\")\n",
    "             .withColumnRenamed(\"season_win_rate\", \"team2_season_win_rate\"),\n",
    "    on=[\"season\", \"team2\"], how=\"left\"\n",
    ")\n"
   ]
  },
  {
   "cell_type": "markdown",
   "metadata": {
    "application/vnd.databricks.v1+cell": {
     "cellMetadata": {
      "byteLimit": 2048000,
      "rowLimit": 10000
     },
     "inputWidgets": {},
     "nuid": "9a50a2e1-d505-46d1-b928-4c6adcef6005",
     "showTitle": false,
     "tableResultSettingsMap": {},
     "title": ""
    }
   },
   "source": [
    "## Venue-Based Win Rate"
   ]
  },
  {
   "cell_type": "code",
   "execution_count": 0,
   "metadata": {
    "application/vnd.databricks.v1+cell": {
     "cellMetadata": {
      "byteLimit": 2048000,
      "rowLimit": 10000
     },
     "inputWidgets": {},
     "nuid": "da9dc5a4-bab9-48a9-b868-f380d8c19ee5",
     "showTitle": false,
     "tableResultSettingsMap": {},
     "title": ""
    }
   },
   "outputs": [],
   "source": [
    "team_venue_wins = matches_df.groupBy(\"venue\", \"winner\") \\\n",
    "    .agg(count(\"*\").alias(\"venue_wins\")) \\\n",
    "    .withColumnRenamed(\"winner\", \"team\")"
   ]
  },
  {
   "cell_type": "code",
   "execution_count": 0,
   "metadata": {
    "application/vnd.databricks.v1+cell": {
     "cellMetadata": {
      "byteLimit": 2048000,
      "rowLimit": 10000
     },
     "inputWidgets": {},
     "nuid": "9d4292ce-a2fc-4196-8a14-d7f6f61077b7",
     "showTitle": false,
     "tableResultSettingsMap": {},
     "title": ""
    }
   },
   "outputs": [],
   "source": [
    "# Team1 and Team2 match appearances by venue\n",
    "venue_team1 = matches_df.select(\"venue\", col(\"team1\").alias(\"team\"))\n",
    "venue_team2 = matches_df.select(\"venue\", col(\"team2\").alias(\"team\"))\n",
    "venue_team_matches = venue_team1.union(venue_team2)\n",
    "\n",
    "team_venue_matches = venue_team_matches.groupBy(\"venue\", \"team\") \\\n",
    "    .agg(count(\"*\").alias(\"venue_matches\"))"
   ]
  },
  {
   "cell_type": "code",
   "execution_count": 0,
   "metadata": {
    "application/vnd.databricks.v1+cell": {
     "cellMetadata": {
      "byteLimit": 2048000,
      "rowLimit": 10000
     },
     "inputWidgets": {},
     "nuid": "951d692c-6d02-4f69-9335-59ed270bd4f3",
     "showTitle": false,
     "tableResultSettingsMap": {},
     "title": ""
    }
   },
   "outputs": [],
   "source": [
    "team_venue_form = team_venue_matches.join(\n",
    "    team_venue_wins, on=[\"venue\", \"team\"], how=\"left\"\n",
    ").fillna(0, subset=[\"venue_wins\"]) \\\n",
    " .withColumn(\"venue_win_rate\", round(col(\"venue_wins\") / col(\"venue_matches\"), 3))"
   ]
  },
  {
   "cell_type": "code",
   "execution_count": 0,
   "metadata": {
    "application/vnd.databricks.v1+cell": {
     "cellMetadata": {
      "byteLimit": 2048000,
      "rowLimit": 10000
     },
     "inputWidgets": {},
     "nuid": "b0947ac5-7ecf-4343-a4a5-2f89b6c04638",
     "showTitle": false,
     "tableResultSettingsMap": {},
     "title": ""
    }
   },
   "outputs": [],
   "source": [
    "matches_df = matches_df.join(\n",
    "    team_venue_form.withColumnRenamed(\"team\", \"team1\")\n",
    "                   .withColumnRenamed(\"venue_win_rate\", \"team1_venue_win_rate\"),\n",
    "    on=[\"venue\", \"team1\"], how=\"left\"\n",
    ")"
   ]
  },
  {
   "cell_type": "markdown",
   "metadata": {
    "application/vnd.databricks.v1+cell": {
     "cellMetadata": {
      "byteLimit": 2048000,
      "rowLimit": 10000
     },
     "inputWidgets": {},
     "nuid": "b66e522d-c24f-4112-bef9-5fb4a3fcf4bf",
     "showTitle": false,
     "tableResultSettingsMap": {},
     "title": ""
    }
   },
   "source": [
    "## Update Feature List"
   ]
  },
  {
   "cell_type": "code",
   "execution_count": 0,
   "metadata": {
    "application/vnd.databricks.v1+cell": {
     "cellMetadata": {
      "byteLimit": 2048000,
      "rowLimit": 10000
     },
     "inputWidgets": {},
     "nuid": "ad70d876-f5c1-455c-8619-848cc83d6a62",
     "showTitle": false,
     "tableResultSettingsMap": {},
     "title": ""
    }
   },
   "outputs": [
    {
     "output_type": "stream",
     "name": "stdout",
     "output_type": "stream",
     "text": [
      "root\n |-- venue: string (nullable = true)\n |-- team1: string (nullable = true)\n |-- season: string (nullable = true)\n |-- team2: string (nullable = true)\n |-- id: string (nullable = true)\n |-- city: string (nullable = true)\n |-- date: string (nullable = true)\n |-- match_type: string (nullable = true)\n |-- player_of_match: string (nullable = true)\n |-- toss_winner: string (nullable = true)\n |-- toss_decision: string (nullable = true)\n |-- winner: string (nullable = true)\n |-- result: string (nullable = true)\n |-- result_margin: string (nullable = true)\n |-- target_runs: string (nullable = true)\n |-- target_overs: string (nullable = true)\n |-- super_over: string (nullable = true)\n |-- method: string (nullable = true)\n |-- umpire1: string (nullable = true)\n |-- umpire2: string (nullable = true)\n |-- toss_match_win: boolean (nullable = true)\n |-- label: integer (nullable = false)\n |-- bat_first_team: string (nullable = true)\n |-- team1_avg_runs: double (nullable = true)\n |-- avg_second_innings_score: double (nullable = true)\n |-- team2_avg_conceded: double (nullable = true)\n |-- h2h_win_rate: double (nullable = true)\n |-- season_matches: long (nullable = true)\n |-- season_wins: long (nullable = true)\n |-- team1_season_win_rate: double (nullable = true)\n |-- season_matches: long (nullable = true)\n |-- season_wins: long (nullable = true)\n |-- team2_season_win_rate: double (nullable = true)\n |-- venue_matches: long (nullable = true)\n |-- venue_wins: long (nullable = true)\n |-- team1_venue_win_rate: double (nullable = true)\n\n"
     ]
    }
   ],
   "source": [
    "from pyspark.ml.feature import StringIndexer, VectorAssembler\n",
    "\n",
    "# Re-declare categorical columns\n",
    "cat_cols = [\"team1\", \"team2\", \"toss_winner\", \"toss_decision\", \"bat_first_team\", \"season\"]\n",
    "\n",
    "# Index categorical columns\n",
    "indexers = [\n",
    "    StringIndexer(inputCol=col, outputCol=col + \"_index\", handleInvalid=\"keep\")\n",
    "    for col in cat_cols\n",
    "]\n",
    "\n",
    "# Update assembler with new features\n",
    "assembler = VectorAssembler(\n",
    "    inputCols=[col + \"_index\" for col in cat_cols] + [\n",
    "        \"team1_avg_runs\",\n",
    "        \"team2_avg_conceded\",\n",
    "        \"h2h_win_rate\",\n",
    "        \"team1_season_win_rate\",\n",
    "        \"team2_season_win_rate\",\n",
    "        \"team1_venue_win_rate\"\n",
    "    ],\n",
    "    outputCol=\"features\"\n",
    ")\n",
    "\n",
    "matches_df.printSchema()\n"
   ]
  },
  {
   "cell_type": "code",
   "execution_count": 0,
   "metadata": {
    "application/vnd.databricks.v1+cell": {
     "cellMetadata": {
      "byteLimit": 2048000,
      "rowLimit": 10000
     },
     "inputWidgets": {},
     "nuid": "2ec21d5e-3c36-4131-b475-66df04083d23",
     "showTitle": false,
     "tableResultSettingsMap": {},
     "title": ""
    }
   },
   "outputs": [],
   "source": [
    "# Drop manually identified duplicate columns\n",
    "matches_df = matches_df.drop(\n",
    "    \"avg_second_innings_score\",\n",
    "    \"season_matches\",\n",
    "    \"season_wins\"\n",
    ")\n"
   ]
  },
  {
   "cell_type": "code",
   "execution_count": 0,
   "metadata": {
    "application/vnd.databricks.v1+cell": {
     "cellMetadata": {
      "byteLimit": 2048000,
      "rowLimit": 10000
     },
     "inputWidgets": {},
     "nuid": "fbe503e3-7ac1-4ff9-a79a-95cbb2e52374",
     "showTitle": false,
     "tableResultSettingsMap": {},
     "title": ""
    }
   },
   "outputs": [],
   "source": [
    "from pyspark.sql.functions import col\n",
    "\n",
    "# Step 1: Create a dictionary to hold seen column names\n",
    "seen = set()\n",
    "deduped_cols = []\n",
    "\n",
    "# Step 2: Loop through all columns and only keep the last occurrence\n",
    "for col_name in reversed(matches_df.columns):\n",
    "    if col_name not in seen:\n",
    "        deduped_cols.insert(0, col_name)\n",
    "        seen.add(col_name)\n",
    "\n",
    "# Step 3: Select only those columns\n",
    "matches_df = matches_df.select([col(c) for c in deduped_cols])\n",
    "\n"
   ]
  },
  {
   "cell_type": "markdown",
   "metadata": {
    "application/vnd.databricks.v1+cell": {
     "cellMetadata": {
      "byteLimit": 2048000,
      "rowLimit": 10000
     },
     "inputWidgets": {},
     "nuid": "e2fb1014-3ae9-4ef1-abf7-2dfe0e3797df",
     "showTitle": false,
     "tableResultSettingsMap": {},
     "title": ""
    }
   },
   "source": [
    "## Random Forest(with smart features)"
   ]
  },
  {
   "cell_type": "code",
   "execution_count": 0,
   "metadata": {
    "application/vnd.databricks.v1+cell": {
     "cellMetadata": {
      "byteLimit": 2048000,
      "rowLimit": 10000
     },
     "inputWidgets": {},
     "nuid": "f3f0add5-2d76-4b30-bebc-00271fb264a6",
     "showTitle": false,
     "tableResultSettingsMap": {},
     "title": ""
    }
   },
   "outputs": [],
   "source": [
    "from pyspark.ml.classification import RandomForestClassifier\n",
    "from pyspark.ml import Pipeline\n",
    "from pyspark.sql.functions import col\n",
    "from pyspark.ml.evaluation import BinaryClassificationEvaluator\n",
    "\n",
    "# Define model\n",
    "rf = RandomForestClassifier(labelCol=\"label\", featuresCol=\"features\", numTrees=100, maxDepth=5)\n",
    "\n",
    "# Pipeline\n",
    "rf_pipeline = Pipeline(stages=indexers + [assembler, rf])\n",
    "\n",
    "# Train-test split\n",
    "train_df, test_df = matches_df.randomSplit([0.8, 0.2], seed=42)\n",
    "\n",
    "# Fit model\n",
    "rf_model = rf_pipeline.fit(train_df)\n",
    "rf_predictions = rf_model.transform(test_df)"
   ]
  },
  {
   "cell_type": "code",
   "execution_count": 0,
   "metadata": {
    "application/vnd.databricks.v1+cell": {
     "cellMetadata": {
      "byteLimit": 2048000,
      "rowLimit": 10000
     },
     "inputWidgets": {},
     "nuid": "6453403c-85e1-4fb4-9fb3-117294140b1c",
     "showTitle": false,
     "tableResultSettingsMap": {},
     "title": ""
    }
   },
   "outputs": [
    {
     "output_type": "stream",
     "name": "stdout",
     "output_type": "stream",
     "text": [
      "Random Forest (with smart features)\nAccuracy: 66.30434782608695\nAUC: 0.7716346153846154\nPrecision: 0.5849056603773585\nRecall: 0.775\nF1 Score: 0.6666666666666666\n"
     ]
    }
   ],
   "source": [
    "from pyspark.sql.functions import col as spark_col\n",
    "from pyspark.ml.evaluation import BinaryClassificationEvaluator\n",
    "from sklearn.metrics import precision_score\n",
    "\n",
    "# Confusion matrix counts\n",
    "tp = int(rf_predictions.filter(\"label = 1 AND prediction = 1\").count())\n",
    "tn = int(rf_predictions.filter(\"label = 0 AND prediction = 0\").count())\n",
    "fp = int(rf_predictions.filter(\"label = 0 AND prediction = 1\").count())\n",
    "fn = int(rf_predictions.filter(\"label = 1 AND prediction = 0\").count())\n",
    "\n",
    "# Metrics\n",
    "rf_accuracy = (tp + tn) / (tp + tn + fp + fn)\n",
    "rf_precision = tp / (tp + fp) if (tp + fp) else 0\n",
    "rf_recall = tp / (tp + fn) if (tp + fn) else 0\n",
    "rf_f1 =  2 * rf_precision * rf_recall / (rf_precision + rf_recall) if (rf_precision + rf_recall) else 0\n",
    "\n",
    "# AUC\n",
    "evaluator = BinaryClassificationEvaluator(labelCol=\"label\", rawPredictionCol=\"rawPrediction\", metricName=\"areaUnderROC\")\n",
    "rf_auc = float(evaluator.evaluate(rf_predictions))\n",
    "\n",
    "print(\"Random Forest (with smart features)\")\n",
    "print(\"Accuracy:\", rf_accuracy * 100)\n",
    "print(\"AUC:\", rf_auc)\n",
    "print(\"Precision:\", rf_precision)\n",
    "print(\"Recall:\", rf_recall)\n",
    "print(\"F1 Score:\", rf_f1)"
   ]
  },
  {
   "cell_type": "markdown",
   "metadata": {
    "application/vnd.databricks.v1+cell": {
     "cellMetadata": {
      "byteLimit": 2048000,
      "rowLimit": 10000
     },
     "inputWidgets": {},
     "nuid": "75e856f7-bd0c-4b0a-ac61-3d50fd92a734",
     "showTitle": false,
     "tableResultSettingsMap": {},
     "title": ""
    }
   },
   "source": [
    "## Decision Tree"
   ]
  },
  {
   "cell_type": "code",
   "execution_count": 0,
   "metadata": {
    "application/vnd.databricks.v1+cell": {
     "cellMetadata": {
      "byteLimit": 2048000,
      "rowLimit": 10000
     },
     "inputWidgets": {},
     "nuid": "e31b12ef-57b6-4e74-a056-1f7f872f936a",
     "showTitle": false,
     "tableResultSettingsMap": {},
     "title": ""
    }
   },
   "outputs": [],
   "source": [
    "from pyspark.ml.classification import DecisionTreeClassifier\n",
    "from pyspark.ml import Pipeline\n",
    "\n",
    "# Define model\n",
    "dt = DecisionTreeClassifier(labelCol=\"label\", featuresCol=\"features\", maxDepth=5)\n",
    "\n",
    "# Create pipeline\n",
    "dt_pipeline = Pipeline(stages=indexers + [assembler, dt])\n",
    "\n",
    "# Train\n",
    "dt_model = dt_pipeline.fit(train_df)\n",
    "\n",
    "# Predict\n",
    "dt_predictions = dt_model.transform(test_df)"
   ]
  },
  {
   "cell_type": "code",
   "execution_count": 0,
   "metadata": {
    "application/vnd.databricks.v1+cell": {
     "cellMetadata": {
      "byteLimit": 2048000,
      "rowLimit": 10000
     },
     "inputWidgets": {},
     "nuid": "e6e28b7c-a844-4186-8604-294dbead2874",
     "showTitle": false,
     "tableResultSettingsMap": {},
     "title": ""
    }
   },
   "outputs": [
    {
     "output_type": "stream",
     "name": "stdout",
     "output_type": "stream",
     "text": [
      "Decision Tree (with smart features)\nAccuracy: 66.30434782608695\nAUC: 0.6179687500000002\nPrecision: 0.5789473684210527\nRecall: 0.825\nF1 Score: 0.6804123711340206\n"
     ]
    }
   ],
   "source": [
    "# Confusion matrix\n",
    "tp = int(dt_predictions.filter(\"label = 1 AND prediction = 1\").count())\n",
    "tn = int(dt_predictions.filter(\"label = 0 AND prediction = 0\").count())\n",
    "fp = int(dt_predictions.filter(\"label = 0 AND prediction = 1\").count())\n",
    "fn = int(dt_predictions.filter(\"label = 1 AND prediction = 0\").count())\n",
    "\n",
    "# Metrics\n",
    "dt_accuracy = (tp + tn) / (tp + tn + fp + fn)\n",
    "dt_precision = tp / (tp + fp) if (tp + fp) else 0\n",
    "dt_recall = tp / (tp + fn) if (tp + fn) else 0\n",
    "dt_f1 = 2 * dt_precision * dt_recall / (dt_precision + dt_recall) if (dt_precision + dt_recall) else 0\n",
    "\n",
    "# AUC\n",
    "from pyspark.ml.evaluation import BinaryClassificationEvaluator\n",
    "evaluator = BinaryClassificationEvaluator(labelCol=\"label\", rawPredictionCol=\"rawPrediction\", metricName=\"areaUnderROC\")\n",
    "dt_auc = float(evaluator.evaluate(dt_predictions))\n",
    "\n",
    "# Output\n",
    "print(\"Decision Tree (with smart features)\")\n",
    "print(\"Accuracy:\", dt_accuracy * 100)\n",
    "print(\"AUC:\", dt_auc)\n",
    "print(\"Precision:\", dt_precision)\n",
    "print(\"Recall:\", dt_recall)\n",
    "print(\"F1 Score:\", dt_f1)"
   ]
  },
  {
   "cell_type": "markdown",
   "metadata": {
    "application/vnd.databricks.v1+cell": {
     "cellMetadata": {
      "byteLimit": 2048000,
      "rowLimit": 10000
     },
     "inputWidgets": {},
     "nuid": "faaf3d23-ddfd-4512-98bf-323a61e355a4",
     "showTitle": false,
     "tableResultSettingsMap": {},
     "title": ""
    }
   },
   "source": [
    "## GBT Classifier"
   ]
  },
  {
   "cell_type": "code",
   "execution_count": 0,
   "metadata": {
    "application/vnd.databricks.v1+cell": {
     "cellMetadata": {
      "byteLimit": 2048000,
      "rowLimit": 10000
     },
     "inputWidgets": {},
     "nuid": "dc6e4800-4ecf-423c-a083-61f80055b8d7",
     "showTitle": false,
     "tableResultSettingsMap": {},
     "title": ""
    }
   },
   "outputs": [],
   "source": [
    "from pyspark.ml.classification import GBTClassifier\n",
    "from pyspark.ml import Pipeline\n",
    "\n",
    "# Define the GBT model\n",
    "gbt = GBTClassifier(labelCol=\"label\", featuresCol=\"features\", maxIter=50, maxDepth=5)\n",
    "\n",
    "# Create pipeline\n",
    "gbt_pipeline = Pipeline(stages=indexers + [assembler, gbt])\n",
    "\n",
    "# Train model\n",
    "gbt_model = gbt_pipeline.fit(train_df)\n",
    "\n",
    "# Make predictions\n",
    "gbt_predictions = gbt_model.transform(test_df)"
   ]
  },
  {
   "cell_type": "code",
   "execution_count": 0,
   "metadata": {
    "application/vnd.databricks.v1+cell": {
     "cellMetadata": {
      "byteLimit": 2048000,
      "rowLimit": 10000
     },
     "inputWidgets": {},
     "nuid": "338d689e-2b90-4e2d-8782-d0fcba50bccd",
     "showTitle": false,
     "tableResultSettingsMap": {},
     "title": ""
    }
   },
   "outputs": [
    {
     "output_type": "stream",
     "name": "stdout",
     "output_type": "stream",
     "text": [
      "GBT Classifier (with smart features)\nAccuracy: 63.58695652173913\nAUC: 0.6896634615384611\nPrecision: 0.5596330275229358\nRecall: 0.7625\nF1 Score: 0.6455026455026455\n"
     ]
    }
   ],
   "source": [
    "# Confusion matrix\n",
    "tp = int(gbt_predictions.filter(\"label = 1 AND prediction = 1\").count())\n",
    "tn = int(gbt_predictions.filter(\"label = 0 AND prediction = 0\").count())\n",
    "fp = int(gbt_predictions.filter(\"label = 0 AND prediction = 1\").count())\n",
    "fn = int(gbt_predictions.filter(\"label = 1 AND prediction = 0\").count())\n",
    "\n",
    "# Metrics\n",
    "gbt_accuracy = (tp + tn) / (tp + tn + fp + fn)\n",
    "gbt_precision = tp / (tp + fp) if (tp + fp) else 0\n",
    "gbt_recall = tp / (tp + fn) if (tp + fn) else 0\n",
    "gbt_f1 = 2 * gbt_precision * gbt_recall / (gbt_precision + gbt_recall) if (gbt_precision + gbt_recall) else 0\n",
    "\n",
    "# AUC\n",
    "evaluator = BinaryClassificationEvaluator(labelCol=\"label\", rawPredictionCol=\"rawPrediction\", metricName=\"areaUnderROC\")\n",
    "gbt_auc = float(evaluator.evaluate(gbt_predictions))\n",
    "\n",
    "# Output\n",
    "print(\"GBT Classifier (with smart features)\")\n",
    "print(\"Accuracy:\", gbt_accuracy * 100)\n",
    "print(\"AUC:\", gbt_auc)\n",
    "print(\"Precision:\", gbt_precision)\n",
    "print(\"Recall:\", gbt_recall)\n",
    "print(\"F1 Score:\", gbt_f1)"
   ]
  },
  {
   "cell_type": "markdown",
   "metadata": {
    "application/vnd.databricks.v1+cell": {
     "cellMetadata": {
      "byteLimit": 2048000,
      "rowLimit": 10000
     },
     "inputWidgets": {},
     "nuid": "c97b6c87-fb3a-4b93-bf34-92c5675aa4f0",
     "showTitle": false,
     "tableResultSettingsMap": {},
     "title": ""
    }
   },
   "source": [
    "## Logistic Regression (with Smart Features)"
   ]
  },
  {
   "cell_type": "code",
   "execution_count": 0,
   "metadata": {
    "application/vnd.databricks.v1+cell": {
     "cellMetadata": {
      "byteLimit": 2048000,
      "rowLimit": 10000
     },
     "inputWidgets": {},
     "nuid": "547187b2-5ebd-4a0b-8b58-a5226ba91ccc",
     "showTitle": false,
     "tableResultSettingsMap": {},
     "title": ""
    }
   },
   "outputs": [],
   "source": [
    "from pyspark.ml.classification import LogisticRegression\n",
    "from pyspark.ml import Pipeline\n",
    "\n",
    "# Define the Logistic Regression model\n",
    "lr = LogisticRegression(labelCol=\"label\", featuresCol=\"features\", maxIter=100)\n",
    "\n",
    "# Create pipeline\n",
    "lr_pipeline = Pipeline(stages=indexers + [assembler, lr])\n",
    "\n",
    "# Train model\n",
    "lr_model = lr_pipeline.fit(train_df)\n",
    "\n",
    "# Make predictions\n",
    "lr_predictions = lr_model.transform(test_df)"
   ]
  },
  {
   "cell_type": "code",
   "execution_count": 0,
   "metadata": {
    "application/vnd.databricks.v1+cell": {
     "cellMetadata": {
      "byteLimit": 2048000,
      "rowLimit": 10000
     },
     "inputWidgets": {},
     "nuid": "71969d5b-5dc3-4187-ab7a-284877de5484",
     "showTitle": false,
     "tableResultSettingsMap": {},
     "title": ""
    }
   },
   "outputs": [
    {
     "output_type": "stream",
     "name": "stdout",
     "output_type": "stream",
     "text": [
      "Logistic Regression (with smart features)\nAccuracy: 69.02173913043478\nAUC: 0.7914663461538463\nPrecision: 0.6138613861386139\nRecall: 0.775\nF1 Score: 0.6850828729281767\n"
     ]
    }
   ],
   "source": [
    "# Confusion matrix\n",
    "tp = int(lr_predictions.filter(\"label = 1 AND prediction = 1\").count())\n",
    "tn = int(lr_predictions.filter(\"label = 0 AND prediction = 0\").count())\n",
    "fp = int(lr_predictions.filter(\"label = 0 AND prediction = 1\").count())\n",
    "fn = int(lr_predictions.filter(\"label = 1 AND prediction = 0\").count())\n",
    "\n",
    "# Metrics\n",
    "lr_accuracy = (tp + tn) / (tp + tn + fp + fn)\n",
    "lr_precision = tp / (tp + fp) if (tp + fp) else 0\n",
    "lr_recall = tp / (tp + fn) if (tp + fn) else 0\n",
    "lr_f1 = 2 * lr_precision * lr_recall / (lr_precision + lr_recall) if (lr_precision + lr_recall) else 0\n",
    "\n",
    "# AUC\n",
    "evaluator = BinaryClassificationEvaluator(labelCol=\"label\", rawPredictionCol=\"rawPrediction\", metricName=\"areaUnderROC\")\n",
    "lr_auc = float(evaluator.evaluate(lr_predictions))\n",
    "\n",
    "# Output\n",
    "print(\"Logistic Regression (with smart features)\")\n",
    "print(\"Accuracy:\", lr_accuracy * 100)\n",
    "print(\"AUC:\", lr_auc)\n",
    "print(\"Precision:\", lr_precision)\n",
    "print(\"Recall:\", lr_recall)\n",
    "print(\"F1 Score:\", lr_f1)\n",
    "\n",
    "lr_model.write().overwrite().save(\"/dbfs/lr_smart_features_model\")\n"
   ]
  },
  {
   "cell_type": "markdown",
   "metadata": {
    "application/vnd.databricks.v1+cell": {
     "cellMetadata": {
      "byteLimit": 2048000,
      "rowLimit": 10000
     },
     "inputWidgets": {},
     "nuid": "a6a6aaa0-8e79-4ad8-8c5b-3b92257b985c",
     "showTitle": false,
     "tableResultSettingsMap": {},
     "title": ""
    }
   },
   "source": [
    "## Neural Network (MLPC) with Smart Features"
   ]
  },
  {
   "cell_type": "code",
   "execution_count": 0,
   "metadata": {
    "application/vnd.databricks.v1+cell": {
     "cellMetadata": {
      "byteLimit": 2048000,
      "rowLimit": 10000
     },
     "inputWidgets": {},
     "nuid": "705cf267-8f41-490f-8c41-8bb52de9ef6a",
     "showTitle": false,
     "tableResultSettingsMap": {},
     "title": ""
    }
   },
   "outputs": [],
   "source": [
    "from pyspark.ml.classification import MultilayerPerceptronClassifier\n",
    "from pyspark.ml import Pipeline\n",
    "\n",
    "# Input size = number of features used in assembler\n",
    "input_size = len([col + \"_index\" for col in cat_cols] + [\n",
    "    \"team1_avg_runs\", \"team2_avg_conceded\",\n",
    "    \"h2h_win_rate\", \"team1_season_win_rate\",\n",
    "    \"team2_season_win_rate\", \"team1_venue_win_rate\"\n",
    "])\n",
    "\n",
    "# Define layers: input → 10 neurons → 5 neurons → 2 outputs\n",
    "layers = [input_size, 10, 5, 2]\n",
    "\n",
    "# MLPC model\n",
    "mlpc = MultilayerPerceptronClassifier(\n",
    "    featuresCol=\"features\",\n",
    "    labelCol=\"label\",\n",
    "    maxIter=100,\n",
    "    layers=layers,\n",
    "    blockSize=128,\n",
    "    seed=123\n",
    ")\n",
    "\n",
    "# Build pipeline\n",
    "mlpc_pipeline = Pipeline(stages=indexers + [assembler, mlpc])\n",
    "\n",
    "# Train model\n",
    "mlpc_model = mlpc_pipeline.fit(train_df)\n",
    "\n",
    "# Predict\n",
    "mlpc_predictions = mlpc_model.transform(test_df)"
   ]
  },
  {
   "cell_type": "code",
   "execution_count": 0,
   "metadata": {
    "application/vnd.databricks.v1+cell": {
     "cellMetadata": {
      "byteLimit": 2048000,
      "rowLimit": 10000
     },
     "inputWidgets": {},
     "nuid": "98bc21af-9a53-4274-b5d6-805918e6ce37",
     "showTitle": false,
     "tableResultSettingsMap": {},
     "title": ""
    }
   },
   "outputs": [
    {
     "output_type": "stream",
     "name": "stdout",
     "output_type": "stream",
     "text": [
      "Neural Network (MLPC) with smart features\nAccuracy: 44.02173913043478\nAUC: 0.4902043269230769\nPrecision: 0.4327485380116959\nRecall: 0.925\nF1 Score: 0.5896414342629481\n"
     ]
    }
   ],
   "source": [
    "# Confusion matrix\n",
    "tp = int(mlpc_predictions.filter(\"label = 1 AND prediction = 1\").count())\n",
    "tn = int(mlpc_predictions.filter(\"label = 0 AND prediction = 0\").count())\n",
    "fp = int(mlpc_predictions.filter(\"label = 0 AND prediction = 1\").count())\n",
    "fn = int(mlpc_predictions.filter(\"label = 1 AND prediction = 0\").count())\n",
    "\n",
    "# Metrics\n",
    "mlpc_accuracy = (tp + tn) / (tp + tn + fp + fn)\n",
    "mlpc_precision = tp / (tp + fp) if (tp + fp) else 0\n",
    "mlpc_recall = tp / (tp + fn) if (tp + fn) else 0\n",
    "mlpc_f1 = 2 * mlpc_precision * mlpc_recall / (mlpc_precision + mlpc_recall) if (mlpc_precision + mlpc_recall) else 0\n",
    "\n",
    "# AUC\n",
    "evaluator = BinaryClassificationEvaluator(labelCol=\"label\", rawPredictionCol=\"rawPrediction\", metricName=\"areaUnderROC\")\n",
    "mlpc_auc = float(evaluator.evaluate(mlpc_predictions))\n",
    "\n",
    "# Output\n",
    "print(\"Neural Network (MLPC) with smart features\")\n",
    "print(\"Accuracy:\", mlpc_accuracy * 100)\n",
    "print(\"AUC:\", mlpc_auc)\n",
    "print(\"Precision:\", mlpc_precision)\n",
    "print(\"Recall:\", mlpc_recall)\n",
    "print(\"F1 Score:\", mlpc_f1)"
   ]
  },
  {
   "cell_type": "markdown",
   "metadata": {
    "application/vnd.databricks.v1+cell": {
     "cellMetadata": {
      "byteLimit": 2048000,
      "rowLimit": 10000
     },
     "inputWidgets": {},
     "nuid": "50a67640-39b4-4fc7-a255-10c575119993",
     "showTitle": false,
     "tableResultSettingsMap": {},
     "title": ""
    }
   },
   "source": [
    "## Model Comparison"
   ]
  },
  {
   "cell_type": "code",
   "execution_count": 0,
   "metadata": {
    "application/vnd.databricks.v1+cell": {
     "cellMetadata": {
      "byteLimit": 2048000,
      "rowLimit": 10000
     },
     "inputWidgets": {},
     "nuid": "b9e77c70-d36b-4925-9d7b-fd65aa368ef0",
     "showTitle": false,
     "tableResultSettingsMap": {},
     "title": ""
    }
   },
   "outputs": [
    {
     "output_type": "display_data",
     "data": {
      "image/png": "[encoded data removed]"
     },
     "metadata": {
      "application/vnd.databricks.v1+output": {
       "addedWidgets": {},
       "arguments": {},
       "data": "data:image/png;base64,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\n",
       "datasetInfos": [],
       "metadata": {},
       "removedWidgets": [],
       "type": "image"
      }
     },
     "output_type": "display_data"
    }
   ],
   "source": [
    "import matplotlib.pyplot as plt\n",
    "import numpy as np\n",
    "\n",
    "# Model labels\n",
    "models = [\"Decision Tree\", \"Random Forest\", \"GBT\", \"Logistic Regression\", \"Neural Network\"]\n",
    "\n",
    "# Metrics from your existing variables — all scaled to 0–100\n",
    "accuracy = [dt_accuracy * 100, rf_accuracy * 100, gbt_accuracy * 100, lr_accuracy * 100, mlpc_accuracy * 100]\n",
    "auc = [dt_auc * 100, rf_auc * 100, gbt_auc * 100, lr_auc * 100, mlpc_auc * 100]\n",
    "precision = [dt_precision * 100, rf_precision * 100, gbt_precision * 100, lr_precision * 100, mlpc_precision * 100]\n",
    "recall = [dt_recall * 100, rf_recall * 100, gbt_recall * 100, lr_recall * 100, mlpc_recall * 100]\n",
    "f1_score = [dt_f1 * 100, rf_f1 * 100, gbt_f1 * 100, lr_f1 * 100, mlpc_f1 * 100]\n",
    "\n",
    "# Grouped bar chart config\n",
    "bar_width = 0.15\n",
    "x = np.arange(len(models))\n",
    "\n",
    "plt.figure(figsize=(14, 6))\n",
    "\n",
    "# Plot bars for each metric\n",
    "plt.bar(x - 2*bar_width, accuracy, width=bar_width, label='Accuracy', color='cornflowerblue')\n",
    "plt.bar(x - bar_width, auc, width=bar_width, label='AUC', color='seagreen')\n",
    "plt.bar(x, precision, width=bar_width, label='Precision', color='orange')\n",
    "plt.bar(x + bar_width, recall, width=bar_width, label='Recall', color='mediumpurple')\n",
    "plt.bar(x + 2*bar_width, f1_score, width=bar_width, label='F1 Score', color='salmon')\n",
    "\n",
    "# Labels and formatting\n",
    "plt.xlabel(\"Model\", fontsize=12)\n",
    "plt.ylabel(\"Score (%)\", fontsize=12)\n",
    "plt.title(\"Model Comparison: Accuracy, AUC, Precision, Recall, F1 Score\", fontsize=14)\n",
    "plt.xticks(x, models, rotation=15)\n",
    "plt.ylim(0, 100)\n",
    "plt.legend()\n",
    "plt.grid(axis='y', linestyle='--', alpha=0.7)\n",
    "plt.tight_layout()\n",
    "\n",
    "plt.show()"
   ]
  },
  {
   "cell_type": "markdown",
   "metadata": {
    "application/vnd.databricks.v1+cell": {
     "cellMetadata": {
      "byteLimit": 2048000,
      "rowLimit": 10000
     },
     "inputWidgets": {},
     "nuid": "6361510f-9ef7-403b-9705-75170906becc",
     "showTitle": false,
     "tableResultSettingsMap": {},
     "title": ""
    }
   },
   "source": [
    "#  UI to predict decide toss decision "
   ]
  },
  {
   "cell_type": "markdown",
   "metadata": {
    "application/vnd.databricks.v1+cell": {
     "cellMetadata": {
      "byteLimit": 2048000,
      "rowLimit": 10000
     },
     "inputWidgets": {},
     "nuid": "940d7e0a-a053-4735-88ee-8d83d5078600",
     "showTitle": false,
     "tableResultSettingsMap": {},
     "title": ""
    }
   },
   "source": [
    "#New "
   ]
  },
  {
   "cell_type": "code",
   "execution_count": 0,
   "metadata": {
    "application/vnd.databricks.v1+cell": {
     "cellMetadata": {
      "byteLimit": 2048000,
      "rowLimit": 10000
     },
     "inputWidgets": {},
     "nuid": "8956271a-fe55-4c35-a1a7-9cce0c93262c",
     "showTitle": false,
     "tableResultSettingsMap": {},
     "title": ""
    }
   },
   "outputs": [],
   "source": [
    "import pandas as pd\n",
    "import numpy as np\n",
    "from sklearn.model_selection import train_test_split\n",
    "from sklearn.linear_model import LogisticRegression\n",
    "from sklearn.preprocessing import StandardScaler, LabelEncoder\n",
    "from sklearn.metrics import accuracy_score\n",
    "\n",
    "# Convert Spark to pandas\n",
    "keras_df = matches_df.select(\n",
    "    \"city\", \"venue\", \"team1\", \"team2\", \"toss_winner\", \"toss_decision\", \"winner\",\n",
    "    \"team1_avg_runs\", \"team2_avg_conceded\", \"h2h_win_rate\",\n",
    "    \"team1_season_win_rate\", \"team2_season_win_rate\", \"team1_venue_win_rate\"\n",
    ").toPandas()\n",
    "\n",
    "keras_df['toss_match_win'] = (keras_df['toss_winner'] == keras_df['winner']).astype(int)\n"
   ]
  },
  {
   "cell_type": "code",
   "execution_count": 0,
   "metadata": {
    "application/vnd.databricks.v1+cell": {
     "cellMetadata": {
      "byteLimit": 2048000,
      "rowLimit": 10000
     },
     "inputWidgets": {},
     "nuid": "13aea94d-e9c2-4c70-a6cd-6a53a82f551f",
     "showTitle": false,
     "tableResultSettingsMap": {},
     "title": ""
    }
   },
   "outputs": [],
   "source": [
    "home_grounds = {\n",
    "    \"Chennai Super Kings\": [\"Chennai\"],\n",
    "    \"Mumbai Indians\": [\"Mumbai\"],\n",
    "    \"Delhi Capitals\": [\"Delhi\"],\n",
    "    \"Kolkata Knight Riders\": [\"Kolkata\"],\n",
    "    \"Royal Challengers Bangalore\": [\"Bengaluru\"],\n",
    "    \"Sunrisers Hyderabad\": [\"Hyderabad\"],\n",
    "    \"Rajasthan Royals\": [\"Jaipur\"],\n",
    "    \"Punjab Kings\": [\"Chandigarh\", \"Mohali\"],\n",
    "    \"Kings XI Punjab\": [\"Chandigarh\", \"Mohali\"],\n",
    "    \"Gujarat Titans\": [\"Ahmedabad\"],\n",
    "    \"Rising Pune Supergiant\": [\"Pune\"],\n",
    "    \"Pune Warriors\": [\"Pune\"],\n",
    "    \"Deccan Chargers\": [\"Hyderabad\"],\n",
    "    \"Gujarat Lions\": [\"Rajkot\"],\n",
    "    \"Kochi Tuskers Kerala\": [\"Kochi\"]\n",
    "}\n",
    "\n",
    "def is_neutral(row):\n",
    "    t1_home = home_grounds.get(row['team1'], [])\n",
    "    t2_home = home_grounds.get(row['team2'], [])\n",
    "    return 0 if row['city'] in t1_home or row['city'] in t2_home else 1\n",
    "\n",
    "keras_df['neutral_venue'] = keras_df.apply(is_neutral, axis=1)\n"
   ]
  },
  {
   "cell_type": "code",
   "execution_count": 0,
   "metadata": {
    "application/vnd.databricks.v1+cell": {
     "cellMetadata": {
      "byteLimit": 2048000,
      "rowLimit": 10000
     },
     "inputWidgets": {},
     "nuid": "76da5ff7-7b38-424d-8ae3-a615bb30818b",
     "showTitle": false,
     "tableResultSettingsMap": {},
     "title": ""
    }
   },
   "outputs": [
    {
     "output_type": "stream",
     "name": "stdout",
     "output_type": "stream",
     "text": [
      "Accuracy: 0.5349544072948328\n"
     ]
    }
   ],
   "source": [
    "# Fit LabelEncoders\n",
    "team1_encoder = LabelEncoder().fit(keras_df['team1'])\n",
    "team2_encoder = LabelEncoder().fit(keras_df['team2'])\n",
    "city_encoder = LabelEncoder().fit(keras_df['city'])\n",
    "venue_encoder = LabelEncoder().fit(keras_df['venue'])\n",
    "\n",
    "keras_df['team1_index'] = team1_encoder.transform(keras_df['team1'])\n",
    "keras_df['team2_index'] = team2_encoder.transform(keras_df['team2'])\n",
    "keras_df['city_index'] = city_encoder.transform(keras_df['city'])\n",
    "keras_df['venue_index'] = venue_encoder.transform(keras_df['venue'])\n",
    "keras_df['toss_winner_flag'] = (keras_df['toss_winner'] == keras_df['team1']).astype(int)\n",
    "\n",
    "# Define feature set\n",
    "feature_cols = [\n",
    "    'team1_index', 'team2_index', 'city_index', 'venue_index',\n",
    "    'team1_avg_runs', 'team2_avg_conceded', 'h2h_win_rate',\n",
    "    'team1_season_win_rate', 'team2_season_win_rate', 'team1_venue_win_rate'\n",
    "]\n",
    "\n",
    "X = keras_df[feature_cols].astype('float32')\n",
    "y = keras_df['toss_match_win'].astype('float32')\n",
    "\n",
    "# Split and scale\n",
    "X_train, X_test, y_train, y_test = train_test_split(X, y, test_size=0.3, random_state=42)\n",
    "scaler = StandardScaler()\n",
    "X_train_scaled = scaler.fit_transform(X_train)\n",
    "X_test_scaled = scaler.transform(X_test)\n",
    "\n",
    "lr = LogisticRegression(max_iter=200, random_state=42)\n",
    "lr.fit(X_train_scaled, y_train)\n",
    "\n",
    "print(\"Accuracy:\", accuracy_score(y_test, lr.predict(X_test_scaled)))\n"
   ]
  },
  {
   "cell_type": "code",
   "execution_count": 0,
   "metadata": {
    "application/vnd.databricks.v1+cell": {
     "cellMetadata": {
      "byteLimit": 2048000,
      "rowLimit": 10000
     },
     "inputWidgets": {},
     "nuid": "27e035ae-c40f-402d-8dae-97161a78ea2d",
     "showTitle": false,
     "tableResultSettingsMap": {},
     "title": ""
    }
   },
   "outputs": [],
   "source": [
    "def compute_smart_features(team1, team2, city):\n",
    "    df = keras_df.copy()\n",
    "\n",
    "    # 1. Average runs by team1 (approximation using match count)\n",
    "    team1_matches = df[df['team1'] == team1]\n",
    "    team1_avg_runs = team1_matches.shape[0]  # Replace with actual score if available\n",
    "    if team1_matches.shape[0] > 0:\n",
    "        team1_avg_runs = np.random.randint(155, 175)  # placeholder if actual run data not present\n",
    "\n",
    "    # 2. Average runs conceded by team2 (approximate)\n",
    "    team2_avg_conceded = np.random.randint(150, 170)  # placeholder\n",
    "\n",
    "    # 3. Head-to-head win rate for team1 vs team2\n",
    "    h2h_matches = df[((df['team1'] == team1) & (df['team2'] == team2)) | \n",
    "                     ((df['team1'] == team2) & (df['team2'] == team1))]\n",
    "    if len(h2h_matches) > 0:\n",
    "        h2h_wins = h2h_matches[h2h_matches['winner'] == team1].shape[0]\n",
    "        h2h_win_rate = h2h_wins / h2h_matches.shape[0]\n",
    "    else:\n",
    "        h2h_win_rate = 0.5  # fallback\n",
    "\n",
    "    # 4. Seasonal win rate (approximate across all matches)\n",
    "    team1_wins = df[df['winner'] == team1].shape[0]\n",
    "    team1_total = df[(df['team1'] == team1) | (df['team2'] == team1)].shape[0]\n",
    "    team1_season_win_rate = team1_wins / team1_total if team1_total > 0 else 0.5\n",
    "\n",
    "    team2_wins = df[df['winner'] == team2].shape[0]\n",
    "    team2_total = df[(df['team1'] == team2) | (df['team2'] == team2)].shape[0]\n",
    "    team2_season_win_rate = team2_wins / team2_total if team2_total > 0 else 0.5\n",
    "\n",
    "    # 5. Venue win rate\n",
    "    venue_matches = df[(df['city'] == city) & ((df['team1'] == team1) | (df['team2'] == team1))]\n",
    "    venue_wins = venue_matches[venue_matches['winner'] == team1].shape[0]\n",
    "    team1_venue_win_rate = venue_wins / venue_matches.shape[0] if venue_matches.shape[0] > 0 else 0.5\n",
    "\n",
    "    return team1_avg_runs, team2_avg_conceded, h2h_win_rate, team1_season_win_rate, team2_season_win_rate, team1_venue_win_rate\n"
   ]
  },
  {
   "cell_type": "code",
   "execution_count": 0,
   "metadata": {
    "application/vnd.databricks.v1+cell": {
     "cellMetadata": {
      "byteLimit": 2048000,
      "rowLimit": 10000
     },
     "inputWidgets": {},
     "nuid": "3ddfcfcf-a3bf-4104-a51e-0241eda14185",
     "showTitle": false,
     "tableResultSettingsMap": {},
     "title": ""
    }
   },
   "outputs": [],
   "source": [
    "def predict_toss_decision_to_win(neutral_venue, city, team1, team2, toss_winner_flag,\n",
    "                                 team1_avg_runs, team2_avg_conceded, h2h_win_rate,\n",
    "                                 team1_season_win_rate, team2_season_win_rate, team1_venue_win_rate):\n",
    "\n",
    "    def safe_encode(encoder, value):\n",
    "        return encoder.transform([value])[0] if value in encoder.classes_ else -1\n",
    "\n",
    "    input_data = pd.DataFrame([{\n",
    "        'team1_index': safe_encode(team1_encoder, team1),\n",
    "        'team2_index': safe_encode(team2_encoder, team2),\n",
    "        'city_index': safe_encode(city_encoder, city),\n",
    "        'venue_index': safe_encode(venue_encoder, city),  # still using city as proxy\n",
    "        'team1_avg_runs': team1_avg_runs,\n",
    "        'team2_avg_conceded': team2_avg_conceded,\n",
    "        'h2h_win_rate': h2h_win_rate,\n",
    "        'team1_season_win_rate': team1_season_win_rate,\n",
    "        'team2_season_win_rate': team2_season_win_rate,\n",
    "        'team1_venue_win_rate': team1_venue_win_rate\n",
    "    }])\n",
    "\n",
    "    input_scaled = scaler.transform(input_data)\n",
    "    prediction = lr.predict_proba(input_scaled)[0][1]\n",
    "\n",
    "    return \"✅ Choose FIELDING to maximize win chance\" if prediction >= 0.6 else \"✅ Choose BATTING to maximize win chance\"\n"
   ]
  },
  {
   "cell_type": "code",
   "execution_count": 0,
   "metadata": {
    "application/vnd.databricks.v1+cell": {
     "cellMetadata": {
      "byteLimit": 2048000,
      "rowLimit": 10000
     },
     "inputWidgets": {},
     "nuid": "ead4d5de-d3b1-455c-a647-ba70159dc62a",
     "showTitle": false,
     "tableResultSettingsMap": {},
     "title": ""
    }
   },
   "outputs": [],
   "source": [
    "all_cities = sorted(keras_df['city'].dropna().unique().tolist())\n",
    "all_teams = sorted(set(keras_df['team1'].dropna().unique().tolist() + keras_df['team2'].dropna().unique().tolist()))\n",
    "\n",
    "dbutils.widgets.dropdown(\"City\", all_cities[0], all_cities, \"Select City\")\n",
    "dbutils.widgets.dropdown(\"Team1\", all_teams[0], all_teams, \"Select Team 1\")\n",
    "dbutils.widgets.dropdown(\"Team2\", all_teams[0], all_teams, \"Select Team 2\")\n",
    "dbutils.widgets.dropdown(\"Neutral\", \"No\", [\"Yes\", \"No\"], \"Neutral Venue\")\n",
    "dbutils.widgets.dropdown(\"TossWinner\", \"Team 1\", [\"Team 1\", \"Team 2\"], \"Toss Winner\")\n"
   ]
  },
  {
   "cell_type": "code",
   "execution_count": 0,
   "metadata": {
    "application/vnd.databricks.v1+cell": {
     "cellMetadata": {
      "byteLimit": 2048000,
      "rowLimit": 10000
     },
     "inputWidgets": {},
     "nuid": "0ab77b03-c93f-40ce-bec1-8592557de79d",
     "showTitle": false,
     "tableResultSettingsMap": {},
     "title": ""
    }
   },
   "outputs": [
    {
     "output_type": "stream",
     "name": "stdout",
     "output_type": "stream",
     "text": [
      "📍 City: Bengaluru\n🏏 Team 1: Royal Challengers Bengaluru\n🏏 Team 2: Chennai Super Kings\n🏟️ Neutral Venue: Yes\n🧢 Toss Winner: Team 1\n✅ Recommended Toss Decision: ✅ Choose BATTING to maximize win chance\n"
     ]
    }
   ],
   "source": [
    "# Collect inputs\n",
    "city = dbutils.widgets.get(\"City\")\n",
    "team1 = dbutils.widgets.get(\"Team1\")\n",
    "team2 = dbutils.widgets.get(\"Team2\")\n",
    "neutral_venue = 1 if dbutils.widgets.get(\"Neutral\") == \"Yes\" else 0\n",
    "toss_winner_flag = 1 if dbutils.widgets.get(\"TossWinner\") == \"Team 1\" else 0\n",
    "\n",
    "# Compute smart features dynamically\n",
    "(\n",
    "    team1_avg_runs, team2_avg_conceded, h2h_win_rate,\n",
    "    team1_season_win_rate, team2_season_win_rate, team1_venue_win_rate\n",
    ") = compute_smart_features(team1, team2, city)\n",
    "\n",
    "# Predict with dynamic data\n",
    "result = predict_toss_decision_to_win(\n",
    "    neutral_venue, city, team1, team2, toss_winner_flag,\n",
    "    team1_avg_runs, team2_avg_conceded, h2h_win_rate,\n",
    "    team1_season_win_rate, team2_season_win_rate, team1_venue_win_rate\n",
    ")\n",
    "\n",
    "\n",
    "# Display\n",
    "print(f\"📍 City: {city}\")\n",
    "print(f\"🏏 Team 1: {team1}\")\n",
    "print(f\"🏏 Team 2: {team2}\")\n",
    "print(f\"🏟️ Neutral Venue: {'Yes' if neutral_venue else 'No'}\")\n",
    "print(f\"🧢 Toss Winner: {'Team 1' if toss_winner_flag else 'Team 2'}\")\n",
    "print(f\"✅ Recommended Toss Decision: {result}\")\n"
   ]
  }
 ],
 "metadata": {
  "application/vnd.databricks.v1+notebook": {
   "computePreferences": null,
   "dashboards": [],
   "environmentMetadata": {
    "base_environment": "",
    "environment_version": "1"
   },
   "inputWidgetPreferences": null,
   "language": "python",
   "notebookMetadata": {
    "pythonIndentUnit": 4,
    "widgetLayout": []
   },
   "notebookName": "IPL-DA",
   "widgets": {
    "City": {
     "currentValue": "Bengaluru",
     "nuid": "ea6f7d5f-7593-41f3-a459-f067b1db74da",
     "typedWidgetInfo": {
      "autoCreated": false,
      "defaultValue": "Abu Dhabi",
      "label": "Select City",
      "name": "City",
      "options": {
       "widgetDisplayType": "Dropdown",
       "choices": [
        "Abu Dhabi",
        "Ahmedabad",
        "Bangalore",
        "Bengaluru",
        "Bloemfontein",
        "Cape Town",
        "Centurion",
        "Chandigarh",
        "Chennai",
        "Cuttack",
        "Delhi",
        "Dharamsala",
        "Dubai",
        "Durban",
        "East London",
        "Guwahati",
        "Hyderabad",
        "Indore",
        "Jaipur",
        "Johannesburg",
        "Kanpur",
        "Kimberley",
        "Kochi",
        "Kolkata",
        "Lucknow",
        "Mohali",
        "Mumbai",
        "NA",
        "Nagpur",
        "Navi Mumbai",
        "Port Elizabeth",
        "Pune",
        "Raipur",
        "Rajkot",
        "Ranchi",
        "Sharjah",
        "Visakhapatnam"
       ],
       "fixedDomain": true,
       "multiselect": false
      },
      "parameterDataType": "String"
     },
     "widgetInfo": {
      "widgetType": "dropdown",
      "defaultValue": "Abu Dhabi",
      "label": "Select City",
      "name": "City",
      "options": {
       "widgetType": "dropdown",
       "autoCreated": false,
       "choices": [
        "Abu Dhabi",
        "Ahmedabad",
        "Bangalore",
        "Bengaluru",
        "Bloemfontein",
        "Cape Town",
        "Centurion",
        "Chandigarh",
        "Chennai",
        "Cuttack",
        "Delhi",
        "Dharamsala",
        "Dubai",
        "Durban",
        "East London",
        "Guwahati",
        "Hyderabad",
        "Indore",
        "Jaipur",
        "Johannesburg",
        "Kanpur",
        "Kimberley",
        "Kochi",
        "Kolkata",
        "Lucknow",
        "Mohali",
        "Mumbai",
        "NA",
        "Nagpur",
        "Navi Mumbai",
        "Port Elizabeth",
        "Pune",
        "Raipur",
        "Rajkot",
        "Ranchi",
        "Sharjah",
        "Visakhapatnam"
       ]
      }
     }
    },
    "Neutral": {
     "currentValue": "Yes",
     "nuid": "81c4d118-38f2-4bfb-bc40-4e31022d44f0",
     "typedWidgetInfo": {
      "autoCreated": false,
      "defaultValue": "No",
      "label": "Neutral Venue",
      "name": "Neutral",
      "options": {
       "widgetDisplayType": "Dropdown",
       "choices": [
        "Yes",
        "No"
       ],
       "fixedDomain": true,
       "multiselect": false
      },
      "parameterDataType": "String"
     },
     "widgetInfo": {
      "widgetType": "dropdown",
      "defaultValue": "No",
      "label": "Neutral Venue",
      "name": "Neutral",
      "options": {
       "widgetType": "dropdown",
       "autoCreated": false,
       "choices": [
        "Yes",
        "No"
       ]
      }
     }
    },
    "Team1": {
     "currentValue": "Royal Challengers Bengaluru",
     "nuid": "6a600e4c-ac4b-4ab7-847c-73df7d489db7",
     "typedWidgetInfo": {
      "autoCreated": false,
      "defaultValue": "Chennai Super Kings",
      "label": "Select Team 1",
      "name": "Team1",
      "options": {
       "widgetDisplayType": "Dropdown",
       "choices": [
        "Chennai Super Kings",
        "Delhi Capitals",
        "Gujarat Titans",
        "Kochi Tuskers Kerala",
        "Kolkata Knight Riders",
        "Lucknow Super Giants",
        "Mumbai Indians",
        "Punjab Kings",
        "Rajasthan Royals",
        "Rising Pune Supergiants",
        "Royal Challengers Bangalore",
        "Royal Challengers Bengaluru",
        "Sunrisers Hyderabad"
       ],
       "fixedDomain": true,
       "multiselect": false
      },
      "parameterDataType": "String"
     },
     "widgetInfo": {
      "widgetType": "dropdown",
      "defaultValue": "Chennai Super Kings",
      "label": "Select Team 1",
      "name": "Team1",
      "options": {
       "widgetType": "dropdown",
       "autoCreated": false,
       "choices": [
        "Chennai Super Kings",
        "Delhi Capitals",
        "Gujarat Titans",
        "Kochi Tuskers Kerala",
        "Kolkata Knight Riders",
        "Lucknow Super Giants",
        "Mumbai Indians",
        "Punjab Kings",
        "Rajasthan Royals",
        "Rising Pune Supergiants",
        "Royal Challengers Bangalore",
        "Royal Challengers Bengaluru",
        "Sunrisers Hyderabad"
       ]
      }
     }
    },
    "Team2": {
     "currentValue": "Chennai Super Kings",
     "nuid": "892af546-e98e-439c-81d5-35cd92e25c7c",
     "typedWidgetInfo": {
      "autoCreated": false,
      "defaultValue": "Chennai Super Kings",
      "label": "Select Team 2",
      "name": "Team2",
      "options": {
       "widgetDisplayType": "Dropdown",
       "choices": [
        "Chennai Super Kings",
        "Delhi Capitals",
        "Gujarat Titans",
        "Kochi Tuskers Kerala",
        "Kolkata Knight Riders",
        "Lucknow Super Giants",
        "Mumbai Indians",
        "Punjab Kings",
        "Rajasthan Royals",
        "Rising Pune Supergiants",
        "Royal Challengers Bangalore",
        "Royal Challengers Bengaluru",
        "Sunrisers Hyderabad"
       ],
       "fixedDomain": true,
       "multiselect": false
      },
      "parameterDataType": "String"
     },
     "widgetInfo": {
      "widgetType": "dropdown",
      "defaultValue": "Chennai Super Kings",
      "label": "Select Team 2",
      "name": "Team2",
      "options": {
       "widgetType": "dropdown",
       "autoCreated": false,
       "choices": [
        "Chennai Super Kings",
        "Delhi Capitals",
        "Gujarat Titans",
        "Kochi Tuskers Kerala",
        "Kolkata Knight Riders",
        "Lucknow Super Giants",
        "Mumbai Indians",
        "Punjab Kings",
        "Rajasthan Royals",
        "Rising Pune Supergiants",
        "Royal Challengers Bangalore",
        "Royal Challengers Bengaluru",
        "Sunrisers Hyderabad"
       ]
      }
     }
    },
    "TossWinner": {
     "currentValue": "Team 1",
     "nuid": "d8a047a1-9f95-4060-8235-f44a2684754d",
     "typedWidgetInfo": {
      "autoCreated": false,
      "defaultValue": "Team 1",
      "label": "Toss Winner",
      "name": "TossWinner",
      "options": {
       "widgetDisplayType": "Dropdown",
       "choices": [
        "Team 1",
        "Team 2"
       ],
       "fixedDomain": true,
       "multiselect": false
      },
      "parameterDataType": "String"
     },
     "widgetInfo": {
      "widgetType": "dropdown",
      "defaultValue": "Team 1",
      "label": "Toss Winner",
      "name": "TossWinner",
      "options": {
       "widgetType": "dropdown",
       "autoCreated": false,
       "choices": [
        "Team 1",
        "Team 2"
       ]
      }
     }
    }
   }
  }
 },
 "nbformat": 4,
 "nbformat_minor": 0
}